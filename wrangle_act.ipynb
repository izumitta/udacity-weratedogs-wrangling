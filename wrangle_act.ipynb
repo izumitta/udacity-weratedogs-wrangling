{
 "cells": [
  {
   "cell_type": "markdown",
   "metadata": {
    "extensions": {
     "jupyter_dashboards": {
      "version": 1,
      "views": {
       "grid_default": {
        "col": 0,
        "height": 4,
        "hidden": false,
        "row": 0,
        "width": 4
       },
       "report_default": {
        "hidden": false
       }
      }
     }
    }
   },
   "source": [
    "# Project: Wrangling and Analyze Data"
   ]
  },
  {
   "cell_type": "code",
   "execution_count": 3,
   "metadata": {},
   "outputs": [],
   "source": [
    "import pandas as pd\n",
    "import tweepy\n",
    "import requests\n",
    "import json\n",
    "import numpy as np\n",
    "import re"
   ]
  },
  {
   "cell_type": "markdown",
   "metadata": {},
   "source": [
    "## Data Gathering\n",
    "In the cell below, gather **all** three pieces of data for this project and load them in the notebook. **Note:** the methods required to gather each data are different.\n",
    "1. Directly download the WeRateDogs Twitter archive data (twitter_archive_enhanced.csv)"
   ]
  },
  {
   "cell_type": "code",
   "execution_count": 4,
   "metadata": {
    "extensions": {
     "jupyter_dashboards": {
      "version": 1,
      "views": {
       "grid_default": {
        "hidden": true
       },
       "report_default": {
        "hidden": true
       }
      }
     }
    }
   },
   "outputs": [
    {
     "data": {
      "text/html": [
       "<div>\n",
       "<style scoped>\n",
       "    .dataframe tbody tr th:only-of-type {\n",
       "        vertical-align: middle;\n",
       "    }\n",
       "\n",
       "    .dataframe tbody tr th {\n",
       "        vertical-align: top;\n",
       "    }\n",
       "\n",
       "    .dataframe thead th {\n",
       "        text-align: right;\n",
       "    }\n",
       "</style>\n",
       "<table border=\"1\" class=\"dataframe\">\n",
       "  <thead>\n",
       "    <tr style=\"text-align: right;\">\n",
       "      <th></th>\n",
       "      <th>tweet_id</th>\n",
       "      <th>in_reply_to_status_id</th>\n",
       "      <th>in_reply_to_user_id</th>\n",
       "      <th>timestamp</th>\n",
       "      <th>source</th>\n",
       "      <th>text</th>\n",
       "      <th>retweeted_status_id</th>\n",
       "      <th>retweeted_status_user_id</th>\n",
       "      <th>retweeted_status_timestamp</th>\n",
       "      <th>expanded_urls</th>\n",
       "      <th>rating_numerator</th>\n",
       "      <th>rating_denominator</th>\n",
       "      <th>name</th>\n",
       "      <th>doggo</th>\n",
       "      <th>floofer</th>\n",
       "      <th>pupper</th>\n",
       "      <th>puppo</th>\n",
       "    </tr>\n",
       "  </thead>\n",
       "  <tbody>\n",
       "    <tr>\n",
       "      <th>0</th>\n",
       "      <td>892420643555336193</td>\n",
       "      <td>NaN</td>\n",
       "      <td>NaN</td>\n",
       "      <td>2017-08-01 16:23:56 +0000</td>\n",
       "      <td>&lt;a href=\"http://twitter.com/download/iphone\" r...</td>\n",
       "      <td>This is Phineas. He's a mystical boy. Only eve...</td>\n",
       "      <td>NaN</td>\n",
       "      <td>NaN</td>\n",
       "      <td>NaN</td>\n",
       "      <td>https://twitter.com/dog_rates/status/892420643...</td>\n",
       "      <td>13</td>\n",
       "      <td>10</td>\n",
       "      <td>Phineas</td>\n",
       "      <td>None</td>\n",
       "      <td>None</td>\n",
       "      <td>None</td>\n",
       "      <td>None</td>\n",
       "    </tr>\n",
       "    <tr>\n",
       "      <th>1</th>\n",
       "      <td>892177421306343426</td>\n",
       "      <td>NaN</td>\n",
       "      <td>NaN</td>\n",
       "      <td>2017-08-01 00:17:27 +0000</td>\n",
       "      <td>&lt;a href=\"http://twitter.com/download/iphone\" r...</td>\n",
       "      <td>This is Tilly. She's just checking pup on you....</td>\n",
       "      <td>NaN</td>\n",
       "      <td>NaN</td>\n",
       "      <td>NaN</td>\n",
       "      <td>https://twitter.com/dog_rates/status/892177421...</td>\n",
       "      <td>13</td>\n",
       "      <td>10</td>\n",
       "      <td>Tilly</td>\n",
       "      <td>None</td>\n",
       "      <td>None</td>\n",
       "      <td>None</td>\n",
       "      <td>None</td>\n",
       "    </tr>\n",
       "    <tr>\n",
       "      <th>2</th>\n",
       "      <td>891815181378084864</td>\n",
       "      <td>NaN</td>\n",
       "      <td>NaN</td>\n",
       "      <td>2017-07-31 00:18:03 +0000</td>\n",
       "      <td>&lt;a href=\"http://twitter.com/download/iphone\" r...</td>\n",
       "      <td>This is Archie. He is a rare Norwegian Pouncin...</td>\n",
       "      <td>NaN</td>\n",
       "      <td>NaN</td>\n",
       "      <td>NaN</td>\n",
       "      <td>https://twitter.com/dog_rates/status/891815181...</td>\n",
       "      <td>12</td>\n",
       "      <td>10</td>\n",
       "      <td>Archie</td>\n",
       "      <td>None</td>\n",
       "      <td>None</td>\n",
       "      <td>None</td>\n",
       "      <td>None</td>\n",
       "    </tr>\n",
       "  </tbody>\n",
       "</table>\n",
       "</div>"
      ],
      "text/plain": [
       "             tweet_id  in_reply_to_status_id  in_reply_to_user_id  \\\n",
       "0  892420643555336193                    NaN                  NaN   \n",
       "1  892177421306343426                    NaN                  NaN   \n",
       "2  891815181378084864                    NaN                  NaN   \n",
       "\n",
       "                   timestamp  \\\n",
       "0  2017-08-01 16:23:56 +0000   \n",
       "1  2017-08-01 00:17:27 +0000   \n",
       "2  2017-07-31 00:18:03 +0000   \n",
       "\n",
       "                                              source  \\\n",
       "0  <a href=\"http://twitter.com/download/iphone\" r...   \n",
       "1  <a href=\"http://twitter.com/download/iphone\" r...   \n",
       "2  <a href=\"http://twitter.com/download/iphone\" r...   \n",
       "\n",
       "                                                text  retweeted_status_id  \\\n",
       "0  This is Phineas. He's a mystical boy. Only eve...                  NaN   \n",
       "1  This is Tilly. She's just checking pup on you....                  NaN   \n",
       "2  This is Archie. He is a rare Norwegian Pouncin...                  NaN   \n",
       "\n",
       "   retweeted_status_user_id retweeted_status_timestamp  \\\n",
       "0                       NaN                        NaN   \n",
       "1                       NaN                        NaN   \n",
       "2                       NaN                        NaN   \n",
       "\n",
       "                                       expanded_urls  rating_numerator  \\\n",
       "0  https://twitter.com/dog_rates/status/892420643...                13   \n",
       "1  https://twitter.com/dog_rates/status/892177421...                13   \n",
       "2  https://twitter.com/dog_rates/status/891815181...                12   \n",
       "\n",
       "   rating_denominator     name doggo floofer pupper puppo  \n",
       "0                  10  Phineas  None    None   None  None  \n",
       "1                  10    Tilly  None    None   None  None  \n",
       "2                  10   Archie  None    None   None  None  "
      ]
     },
     "execution_count": 4,
     "metadata": {},
     "output_type": "execute_result"
    }
   ],
   "source": [
    "tweets = pd.read_csv('twitter-archive-enhanced.csv')\n",
    "tweets.head(3)"
   ]
  },
  {
   "cell_type": "markdown",
   "metadata": {},
   "source": [
    "2. Use the Requests library to download the tweet image prediction (image_predictions.tsv)"
   ]
  },
  {
   "cell_type": "code",
   "execution_count": 5,
   "metadata": {},
   "outputs": [],
   "source": [
    "url = 'https://d17h27t6h515a5.cloudfront.net/topher/2017/August/599fd2ad_image-predictions/image-predictions.tsv'\n",
    "req = requests.get(url)\n",
    "url_content = req.content\n",
    "tsv_file = open('image_predictions.tsv', 'wb')\n",
    "\n",
    "tsv_file.write(url_content)\n",
    "tsv_file.close()"
   ]
  },
  {
   "cell_type": "code",
   "execution_count": 6,
   "metadata": {},
   "outputs": [
    {
     "data": {
      "text/html": [
       "<div>\n",
       "<style scoped>\n",
       "    .dataframe tbody tr th:only-of-type {\n",
       "        vertical-align: middle;\n",
       "    }\n",
       "\n",
       "    .dataframe tbody tr th {\n",
       "        vertical-align: top;\n",
       "    }\n",
       "\n",
       "    .dataframe thead th {\n",
       "        text-align: right;\n",
       "    }\n",
       "</style>\n",
       "<table border=\"1\" class=\"dataframe\">\n",
       "  <thead>\n",
       "    <tr style=\"text-align: right;\">\n",
       "      <th></th>\n",
       "      <th>tweet_id</th>\n",
       "      <th>jpg_url</th>\n",
       "      <th>img_num</th>\n",
       "      <th>p1</th>\n",
       "      <th>p1_conf</th>\n",
       "      <th>p1_dog</th>\n",
       "      <th>p2</th>\n",
       "      <th>p2_conf</th>\n",
       "      <th>p2_dog</th>\n",
       "      <th>p3</th>\n",
       "      <th>p3_conf</th>\n",
       "      <th>p3_dog</th>\n",
       "    </tr>\n",
       "  </thead>\n",
       "  <tbody>\n",
       "    <tr>\n",
       "      <th>0</th>\n",
       "      <td>666020888022790149</td>\n",
       "      <td>https://pbs.twimg.com/media/CT4udn0WwAA0aMy.jpg</td>\n",
       "      <td>1</td>\n",
       "      <td>Welsh_springer_spaniel</td>\n",
       "      <td>0.465074</td>\n",
       "      <td>True</td>\n",
       "      <td>collie</td>\n",
       "      <td>0.156665</td>\n",
       "      <td>True</td>\n",
       "      <td>Shetland_sheepdog</td>\n",
       "      <td>0.061428</td>\n",
       "      <td>True</td>\n",
       "    </tr>\n",
       "    <tr>\n",
       "      <th>1</th>\n",
       "      <td>666029285002620928</td>\n",
       "      <td>https://pbs.twimg.com/media/CT42GRgUYAA5iDo.jpg</td>\n",
       "      <td>1</td>\n",
       "      <td>redbone</td>\n",
       "      <td>0.506826</td>\n",
       "      <td>True</td>\n",
       "      <td>miniature_pinscher</td>\n",
       "      <td>0.074192</td>\n",
       "      <td>True</td>\n",
       "      <td>Rhodesian_ridgeback</td>\n",
       "      <td>0.072010</td>\n",
       "      <td>True</td>\n",
       "    </tr>\n",
       "  </tbody>\n",
       "</table>\n",
       "</div>"
      ],
      "text/plain": [
       "             tweet_id                                          jpg_url  \\\n",
       "0  666020888022790149  https://pbs.twimg.com/media/CT4udn0WwAA0aMy.jpg   \n",
       "1  666029285002620928  https://pbs.twimg.com/media/CT42GRgUYAA5iDo.jpg   \n",
       "\n",
       "   img_num                      p1   p1_conf  p1_dog                  p2  \\\n",
       "0        1  Welsh_springer_spaniel  0.465074    True              collie   \n",
       "1        1                 redbone  0.506826    True  miniature_pinscher   \n",
       "\n",
       "    p2_conf  p2_dog                   p3   p3_conf  p3_dog  \n",
       "0  0.156665    True    Shetland_sheepdog  0.061428    True  \n",
       "1  0.074192    True  Rhodesian_ridgeback  0.072010    True  "
      ]
     },
     "execution_count": 6,
     "metadata": {},
     "output_type": "execute_result"
    }
   ],
   "source": [
    "image_pred = pd.read_csv('image_predictions.tsv', sep='\\t')\n",
    "image_pred.head(2)"
   ]
  },
  {
   "cell_type": "markdown",
   "metadata": {},
   "source": [
    "3. Use the Tweepy library to query additional data via the Twitter API (tweet_json.txt)"
   ]
  },
  {
   "cell_type": "code",
   "execution_count": 7,
   "metadata": {},
   "outputs": [],
   "source": [
    "consumer_key = 'CONSUMER KEY'\n",
    "consumer_secret = 'CONSUMER SECRET'\n",
    "access_token = 'ACCESS TOKEN'\n",
    "access_secret = 'ACCESS SECRET'\n",
    "\n",
    "auth = tweepy.OAuthHandler(consumer_key, consumer_secret)\n",
    "auth.set_access_token(access_token, access_secret)\n",
    "\n",
    "api = tweepy.API(auth)"
   ]
  },
  {
   "cell_type": "code",
   "execution_count": 8,
   "metadata": {},
   "outputs": [],
   "source": [
    "filename = 'tweet_json.txt'\n",
    "\n",
    "# Convert Series to List for Tweepy\n",
    "tweet_ids = list(tweets.tweet_id)\n",
    "\n",
    "# Clear file to avoid duplicates\n",
    "open(filename, 'w').close()\n",
    "\n",
    "# Split list of ids into 100x chunks since lookup_statuses method \n",
    "# returns full Tweet objects for up to 100 Tweets per request, specified by the id parameter \n",
    "# Method lookup_statuses is used instead of get_status since it takes less time to execute (around 20s)\n",
    "for i in range(0, len(tweet_ids), 100): \n",
    "    ids = tweet_ids[i:i + 100]\n",
    "    fetched_tweets = api.lookup_statuses(ids, include_entities=False, trim_user=True, tweet_mode='extended')\n",
    "    for tweet in fetched_tweets:\n",
    "        with open(filename, 'a') as outputfile:\n",
    "            json.dump(tweet._json, outputfile)\n",
    "            outputfile.write('\\n')"
   ]
  },
  {
   "cell_type": "code",
   "execution_count": 9,
   "metadata": {},
   "outputs": [
    {
     "data": {
      "text/html": [
       "<div>\n",
       "<style scoped>\n",
       "    .dataframe tbody tr th:only-of-type {\n",
       "        vertical-align: middle;\n",
       "    }\n",
       "\n",
       "    .dataframe tbody tr th {\n",
       "        vertical-align: top;\n",
       "    }\n",
       "\n",
       "    .dataframe thead th {\n",
       "        text-align: right;\n",
       "    }\n",
       "</style>\n",
       "<table border=\"1\" class=\"dataframe\">\n",
       "  <thead>\n",
       "    <tr style=\"text-align: right;\">\n",
       "      <th></th>\n",
       "      <th>tweet_id</th>\n",
       "      <th>likes</th>\n",
       "      <th>retweets</th>\n",
       "    </tr>\n",
       "  </thead>\n",
       "  <tbody>\n",
       "    <tr>\n",
       "      <th>0</th>\n",
       "      <td>876484053909872640</td>\n",
       "      <td>16864</td>\n",
       "      <td>2038</td>\n",
       "    </tr>\n",
       "    <tr>\n",
       "      <th>1</th>\n",
       "      <td>886366144734445568</td>\n",
       "      <td>18897</td>\n",
       "      <td>2688</td>\n",
       "    </tr>\n",
       "    <tr>\n",
       "      <th>2</th>\n",
       "      <td>877611172832227328</td>\n",
       "      <td>0</td>\n",
       "      <td>70</td>\n",
       "    </tr>\n",
       "  </tbody>\n",
       "</table>\n",
       "</div>"
      ],
      "text/plain": [
       "             tweet_id  likes  retweets\n",
       "0  876484053909872640  16864      2038\n",
       "1  886366144734445568  18897      2688\n",
       "2  877611172832227328      0        70"
      ]
     },
     "execution_count": 9,
     "metadata": {},
     "output_type": "execute_result"
    }
   ],
   "source": [
    "df_list = []\n",
    "with open('tweet_json.txt') as json_file:\n",
    "    for line in json_file:\n",
    "        data = json.loads(line)\n",
    "        ids = data['id']\n",
    "        likes = data['favorite_count']\n",
    "        retweets = data['retweet_count']\n",
    "        df_list.append({'tweet_id': ids,\n",
    "                        'likes': int(likes),\n",
    "                        'retweets': int(retweets)})\n",
    "engagement = pd.DataFrame(df_list, columns=['tweet_id','likes','retweets'])\n",
    "engagement.head(3)"
   ]
  },
  {
   "cell_type": "code",
   "execution_count": 10,
   "metadata": {},
   "outputs": [
    {
     "name": "stdout",
     "output_type": "stream",
     "text": [
      "<class 'pandas.core.frame.DataFrame'>\n",
      "RangeIndex: 2328 entries, 0 to 2327\n",
      "Data columns (total 3 columns):\n",
      " #   Column    Non-Null Count  Dtype\n",
      "---  ------    --------------  -----\n",
      " 0   tweet_id  2328 non-null   int64\n",
      " 1   likes     2328 non-null   int64\n",
      " 2   retweets  2328 non-null   int64\n",
      "dtypes: int64(3)\n",
      "memory usage: 54.7 KB\n"
     ]
    }
   ],
   "source": [
    "engagement.info()"
   ]
  },
  {
   "cell_type": "markdown",
   "metadata": {
    "extensions": {
     "jupyter_dashboards": {
      "version": 1,
      "views": {
       "grid_default": {
        "col": 4,
        "height": 4,
        "hidden": false,
        "row": 28,
        "width": 4
       },
       "report_default": {
        "hidden": false
       }
      }
     }
    }
   },
   "source": [
    "## Assessing Data\n",
    "In this section, detect and document at least **eight (8) quality issues and two (2) tidiness issue**. You must use **both** visual assessment\n",
    "programmatic assessement to assess the data.\n",
    "\n",
    "**Note:** pay attention to the following key points when you access the data.\n",
    "\n",
    "* You only want original ratings (no retweets) that have images. Though there are 5000+ tweets in the dataset, not all are dog ratings and some are retweets.\n",
    "* Assessing and cleaning the entire dataset completely would require a lot of time, and is not necessary to practice and demonstrate your skills in data wrangling. Therefore, the requirements of this project are only to assess and clean at least 8 quality issues and at least 2 tidiness issues in this dataset.\n",
    "* The fact that the rating numerators are greater than the denominators does not need to be cleaned. This [unique rating system](http://knowyourmeme.com/memes/theyre-good-dogs-brent) is a big part of the popularity of WeRateDogs.\n",
    "* You do not need to gather the tweets beyond August 1st, 2017. You can, but note that you won't be able to gather the image predictions for these tweets since you don't have access to the algorithm used.\n",
    "\n"
   ]
  },
  {
   "cell_type": "code",
   "execution_count": 11,
   "metadata": {},
   "outputs": [
    {
     "data": {
      "text/html": [
       "<div>\n",
       "<style scoped>\n",
       "    .dataframe tbody tr th:only-of-type {\n",
       "        vertical-align: middle;\n",
       "    }\n",
       "\n",
       "    .dataframe tbody tr th {\n",
       "        vertical-align: top;\n",
       "    }\n",
       "\n",
       "    .dataframe thead th {\n",
       "        text-align: right;\n",
       "    }\n",
       "</style>\n",
       "<table border=\"1\" class=\"dataframe\">\n",
       "  <thead>\n",
       "    <tr style=\"text-align: right;\">\n",
       "      <th></th>\n",
       "      <th>tweet_id</th>\n",
       "      <th>in_reply_to_status_id</th>\n",
       "      <th>in_reply_to_user_id</th>\n",
       "      <th>timestamp</th>\n",
       "      <th>source</th>\n",
       "      <th>text</th>\n",
       "      <th>retweeted_status_id</th>\n",
       "      <th>retweeted_status_user_id</th>\n",
       "      <th>retweeted_status_timestamp</th>\n",
       "      <th>expanded_urls</th>\n",
       "      <th>rating_numerator</th>\n",
       "      <th>rating_denominator</th>\n",
       "      <th>name</th>\n",
       "      <th>doggo</th>\n",
       "      <th>floofer</th>\n",
       "      <th>pupper</th>\n",
       "      <th>puppo</th>\n",
       "    </tr>\n",
       "  </thead>\n",
       "  <tbody>\n",
       "    <tr>\n",
       "      <th>0</th>\n",
       "      <td>892420643555336193</td>\n",
       "      <td>NaN</td>\n",
       "      <td>NaN</td>\n",
       "      <td>2017-08-01 16:23:56 +0000</td>\n",
       "      <td>&lt;a href=\"http://twitter.com/download/iphone\" r...</td>\n",
       "      <td>This is Phineas. He's a mystical boy. Only eve...</td>\n",
       "      <td>NaN</td>\n",
       "      <td>NaN</td>\n",
       "      <td>NaN</td>\n",
       "      <td>https://twitter.com/dog_rates/status/892420643...</td>\n",
       "      <td>13</td>\n",
       "      <td>10</td>\n",
       "      <td>Phineas</td>\n",
       "      <td>None</td>\n",
       "      <td>None</td>\n",
       "      <td>None</td>\n",
       "      <td>None</td>\n",
       "    </tr>\n",
       "    <tr>\n",
       "      <th>1</th>\n",
       "      <td>892177421306343426</td>\n",
       "      <td>NaN</td>\n",
       "      <td>NaN</td>\n",
       "      <td>2017-08-01 00:17:27 +0000</td>\n",
       "      <td>&lt;a href=\"http://twitter.com/download/iphone\" r...</td>\n",
       "      <td>This is Tilly. She's just checking pup on you....</td>\n",
       "      <td>NaN</td>\n",
       "      <td>NaN</td>\n",
       "      <td>NaN</td>\n",
       "      <td>https://twitter.com/dog_rates/status/892177421...</td>\n",
       "      <td>13</td>\n",
       "      <td>10</td>\n",
       "      <td>Tilly</td>\n",
       "      <td>None</td>\n",
       "      <td>None</td>\n",
       "      <td>None</td>\n",
       "      <td>None</td>\n",
       "    </tr>\n",
       "    <tr>\n",
       "      <th>2</th>\n",
       "      <td>891815181378084864</td>\n",
       "      <td>NaN</td>\n",
       "      <td>NaN</td>\n",
       "      <td>2017-07-31 00:18:03 +0000</td>\n",
       "      <td>&lt;a href=\"http://twitter.com/download/iphone\" r...</td>\n",
       "      <td>This is Archie. He is a rare Norwegian Pouncin...</td>\n",
       "      <td>NaN</td>\n",
       "      <td>NaN</td>\n",
       "      <td>NaN</td>\n",
       "      <td>https://twitter.com/dog_rates/status/891815181...</td>\n",
       "      <td>12</td>\n",
       "      <td>10</td>\n",
       "      <td>Archie</td>\n",
       "      <td>None</td>\n",
       "      <td>None</td>\n",
       "      <td>None</td>\n",
       "      <td>None</td>\n",
       "    </tr>\n",
       "  </tbody>\n",
       "</table>\n",
       "</div>"
      ],
      "text/plain": [
       "             tweet_id  in_reply_to_status_id  in_reply_to_user_id  \\\n",
       "0  892420643555336193                    NaN                  NaN   \n",
       "1  892177421306343426                    NaN                  NaN   \n",
       "2  891815181378084864                    NaN                  NaN   \n",
       "\n",
       "                   timestamp  \\\n",
       "0  2017-08-01 16:23:56 +0000   \n",
       "1  2017-08-01 00:17:27 +0000   \n",
       "2  2017-07-31 00:18:03 +0000   \n",
       "\n",
       "                                              source  \\\n",
       "0  <a href=\"http://twitter.com/download/iphone\" r...   \n",
       "1  <a href=\"http://twitter.com/download/iphone\" r...   \n",
       "2  <a href=\"http://twitter.com/download/iphone\" r...   \n",
       "\n",
       "                                                text  retweeted_status_id  \\\n",
       "0  This is Phineas. He's a mystical boy. Only eve...                  NaN   \n",
       "1  This is Tilly. She's just checking pup on you....                  NaN   \n",
       "2  This is Archie. He is a rare Norwegian Pouncin...                  NaN   \n",
       "\n",
       "   retweeted_status_user_id retweeted_status_timestamp  \\\n",
       "0                       NaN                        NaN   \n",
       "1                       NaN                        NaN   \n",
       "2                       NaN                        NaN   \n",
       "\n",
       "                                       expanded_urls  rating_numerator  \\\n",
       "0  https://twitter.com/dog_rates/status/892420643...                13   \n",
       "1  https://twitter.com/dog_rates/status/892177421...                13   \n",
       "2  https://twitter.com/dog_rates/status/891815181...                12   \n",
       "\n",
       "   rating_denominator     name doggo floofer pupper puppo  \n",
       "0                  10  Phineas  None    None   None  None  \n",
       "1                  10    Tilly  None    None   None  None  \n",
       "2                  10   Archie  None    None   None  None  "
      ]
     },
     "execution_count": 11,
     "metadata": {},
     "output_type": "execute_result"
    }
   ],
   "source": [
    "# Visual assessment of twitter archive table\n",
    "tweets.head(3)"
   ]
  },
  {
   "cell_type": "markdown",
   "metadata": {},
   "source": [
    "#### Columns description:\n",
    "\n",
    "<br>tweet_id: the unique identifier for each tweet\n",
    "<br>in_reply_to_status_id: if the represented Tweet is a reply, this field will contain the integer representation of the original Tweet’s ID\n",
    "<br>in_reply_to_user_id: if the represented Tweet is a reply, this field will contain the integer representation of the original Tweet’s author ID\n",
    "<br>timestamp: time when this Tweet was created\n",
    "<br>source: utility used to post the Tweet, as an HTML-formatted string. e.g. Twitter for Android, Twitter for iPhone, Twitter Web Client\n",
    "<br>text: actual UTF-8 text of the status update\n",
    "<br>retweeted_status_id: if the represented Tweet is a retweet, this field will contain the integer representation of the original Tweet’s ID\n",
    "<br>retweeted_status_user_id: if the represented Tweet is a retweet, this field will contain the integer representation of the original Tweet’s author ID\n",
    "<br>retweeted_status_timestamp: time of retweet\n",
    "<br>expanded_urls: tweet URL\n",
    "<br>rating_numerator: numerator of the rating of a dog. Note: ratings almost always greater than 10\n",
    "<br>rating_denominator: denominator of the rating of a dog. Note: ratings almost always have a denominator of 10\n",
    "<br>name: name of the dog\n",
    "<br>doggo: one of the 4 dog \"stage\"\n",
    "<br>floofer: one of the 4 dog \"stage\"\n",
    "<br>pupper: one of the 4 dog \"stage\"\n",
    "<br>puppo: one of the 4 dog \"stage\""
   ]
  },
  {
   "cell_type": "code",
   "execution_count": 12,
   "metadata": {},
   "outputs": [
    {
     "data": {
      "text/html": [
       "<div>\n",
       "<style scoped>\n",
       "    .dataframe tbody tr th:only-of-type {\n",
       "        vertical-align: middle;\n",
       "    }\n",
       "\n",
       "    .dataframe tbody tr th {\n",
       "        vertical-align: top;\n",
       "    }\n",
       "\n",
       "    .dataframe thead th {\n",
       "        text-align: right;\n",
       "    }\n",
       "</style>\n",
       "<table border=\"1\" class=\"dataframe\">\n",
       "  <thead>\n",
       "    <tr style=\"text-align: right;\">\n",
       "      <th></th>\n",
       "      <th>tweet_id</th>\n",
       "      <th>in_reply_to_status_id</th>\n",
       "      <th>in_reply_to_user_id</th>\n",
       "      <th>timestamp</th>\n",
       "      <th>source</th>\n",
       "      <th>text</th>\n",
       "      <th>retweeted_status_id</th>\n",
       "      <th>retweeted_status_user_id</th>\n",
       "      <th>retweeted_status_timestamp</th>\n",
       "      <th>expanded_urls</th>\n",
       "      <th>rating_numerator</th>\n",
       "      <th>rating_denominator</th>\n",
       "      <th>name</th>\n",
       "      <th>doggo</th>\n",
       "      <th>floofer</th>\n",
       "      <th>pupper</th>\n",
       "      <th>puppo</th>\n",
       "    </tr>\n",
       "  </thead>\n",
       "  <tbody>\n",
       "    <tr>\n",
       "      <th>1194</th>\n",
       "      <td>717428917016076293</td>\n",
       "      <td>NaN</td>\n",
       "      <td>NaN</td>\n",
       "      <td>2016-04-05 19:09:17 +0000</td>\n",
       "      <td>&lt;a href=\"http://vine.co\" rel=\"nofollow\"&gt;Vine -...</td>\n",
       "      <td>This is Skittle. He's trying to communicate. 1...</td>\n",
       "      <td>NaN</td>\n",
       "      <td>NaN</td>\n",
       "      <td>NaN</td>\n",
       "      <td>https://vine.co/v/iIhEU2lVqxz</td>\n",
       "      <td>11</td>\n",
       "      <td>10</td>\n",
       "      <td>Skittle</td>\n",
       "      <td>None</td>\n",
       "      <td>None</td>\n",
       "      <td>None</td>\n",
       "      <td>None</td>\n",
       "    </tr>\n",
       "    <tr>\n",
       "      <th>1146</th>\n",
       "      <td>727155742655025152</td>\n",
       "      <td>NaN</td>\n",
       "      <td>NaN</td>\n",
       "      <td>2016-05-02 15:20:13 +0000</td>\n",
       "      <td>&lt;a href=\"http://vine.co\" rel=\"nofollow\"&gt;Vine -...</td>\n",
       "      <td>When you're trying to enjoy yourself but end u...</td>\n",
       "      <td>NaN</td>\n",
       "      <td>NaN</td>\n",
       "      <td>NaN</td>\n",
       "      <td>https://vine.co/v/ixa1ejbXiM7</td>\n",
       "      <td>11</td>\n",
       "      <td>10</td>\n",
       "      <td>None</td>\n",
       "      <td>None</td>\n",
       "      <td>None</td>\n",
       "      <td>None</td>\n",
       "      <td>None</td>\n",
       "    </tr>\n",
       "    <tr>\n",
       "      <th>1195</th>\n",
       "      <td>717421804990701568</td>\n",
       "      <td>NaN</td>\n",
       "      <td>NaN</td>\n",
       "      <td>2016-04-05 18:41:02 +0000</td>\n",
       "      <td>&lt;a href=\"http://twitter.com/download/iphone\" r...</td>\n",
       "      <td>This is Ebby. She's a Zimbabwean Feta. Embarra...</td>\n",
       "      <td>NaN</td>\n",
       "      <td>NaN</td>\n",
       "      <td>NaN</td>\n",
       "      <td>https://twitter.com/dog_rates/status/717421804...</td>\n",
       "      <td>9</td>\n",
       "      <td>10</td>\n",
       "      <td>Ebby</td>\n",
       "      <td>None</td>\n",
       "      <td>None</td>\n",
       "      <td>None</td>\n",
       "      <td>None</td>\n",
       "    </tr>\n",
       "    <tr>\n",
       "      <th>1959</th>\n",
       "      <td>673576835670777856</td>\n",
       "      <td>NaN</td>\n",
       "      <td>NaN</td>\n",
       "      <td>2015-12-06 18:56:46 +0000</td>\n",
       "      <td>&lt;a href=\"http://twitter.com/download/iphone\" r...</td>\n",
       "      <td>Sun burnt dog here. Quite large. Wants to prom...</td>\n",
       "      <td>NaN</td>\n",
       "      <td>NaN</td>\n",
       "      <td>NaN</td>\n",
       "      <td>https://twitter.com/dog_rates/status/673576835...</td>\n",
       "      <td>7</td>\n",
       "      <td>10</td>\n",
       "      <td>None</td>\n",
       "      <td>None</td>\n",
       "      <td>None</td>\n",
       "      <td>None</td>\n",
       "      <td>None</td>\n",
       "    </tr>\n",
       "    <tr>\n",
       "      <th>189</th>\n",
       "      <td>855860136149123072</td>\n",
       "      <td>8.558585e+17</td>\n",
       "      <td>13615722.0</td>\n",
       "      <td>2017-04-22 19:05:32 +0000</td>\n",
       "      <td>&lt;a href=\"http://twitter.com/download/iphone\" r...</td>\n",
       "      <td>@s8n You tried very hard to portray this good ...</td>\n",
       "      <td>NaN</td>\n",
       "      <td>NaN</td>\n",
       "      <td>NaN</td>\n",
       "      <td>NaN</td>\n",
       "      <td>666</td>\n",
       "      <td>10</td>\n",
       "      <td>None</td>\n",
       "      <td>None</td>\n",
       "      <td>None</td>\n",
       "      <td>None</td>\n",
       "      <td>None</td>\n",
       "    </tr>\n",
       "    <tr>\n",
       "      <th>2178</th>\n",
       "      <td>669015743032369152</td>\n",
       "      <td>NaN</td>\n",
       "      <td>NaN</td>\n",
       "      <td>2015-11-24 04:52:37 +0000</td>\n",
       "      <td>&lt;a href=\"http://twitter.com/download/iphone\" r...</td>\n",
       "      <td>Super rare dog right here guys. Doesn't bark. ...</td>\n",
       "      <td>NaN</td>\n",
       "      <td>NaN</td>\n",
       "      <td>NaN</td>\n",
       "      <td>https://twitter.com/dog_rates/status/669015743...</td>\n",
       "      <td>10</td>\n",
       "      <td>10</td>\n",
       "      <td>None</td>\n",
       "      <td>None</td>\n",
       "      <td>None</td>\n",
       "      <td>None</td>\n",
       "      <td>None</td>\n",
       "    </tr>\n",
       "    <tr>\n",
       "      <th>989</th>\n",
       "      <td>748932637671223296</td>\n",
       "      <td>NaN</td>\n",
       "      <td>NaN</td>\n",
       "      <td>2016-07-01 17:33:49 +0000</td>\n",
       "      <td>&lt;a href=\"http://twitter.com/download/iphone\" r...</td>\n",
       "      <td>Say hello to Divine Doggo. Must be magical af....</td>\n",
       "      <td>NaN</td>\n",
       "      <td>NaN</td>\n",
       "      <td>NaN</td>\n",
       "      <td>https://twitter.com/dog_rates/status/748932637...</td>\n",
       "      <td>13</td>\n",
       "      <td>10</td>\n",
       "      <td>Divine</td>\n",
       "      <td>doggo</td>\n",
       "      <td>None</td>\n",
       "      <td>None</td>\n",
       "      <td>None</td>\n",
       "    </tr>\n",
       "  </tbody>\n",
       "</table>\n",
       "</div>"
      ],
      "text/plain": [
       "                tweet_id  in_reply_to_status_id  in_reply_to_user_id  \\\n",
       "1194  717428917016076293                    NaN                  NaN   \n",
       "1146  727155742655025152                    NaN                  NaN   \n",
       "1195  717421804990701568                    NaN                  NaN   \n",
       "1959  673576835670777856                    NaN                  NaN   \n",
       "189   855860136149123072           8.558585e+17           13615722.0   \n",
       "2178  669015743032369152                    NaN                  NaN   \n",
       "989   748932637671223296                    NaN                  NaN   \n",
       "\n",
       "                      timestamp  \\\n",
       "1194  2016-04-05 19:09:17 +0000   \n",
       "1146  2016-05-02 15:20:13 +0000   \n",
       "1195  2016-04-05 18:41:02 +0000   \n",
       "1959  2015-12-06 18:56:46 +0000   \n",
       "189   2017-04-22 19:05:32 +0000   \n",
       "2178  2015-11-24 04:52:37 +0000   \n",
       "989   2016-07-01 17:33:49 +0000   \n",
       "\n",
       "                                                 source  \\\n",
       "1194  <a href=\"http://vine.co\" rel=\"nofollow\">Vine -...   \n",
       "1146  <a href=\"http://vine.co\" rel=\"nofollow\">Vine -...   \n",
       "1195  <a href=\"http://twitter.com/download/iphone\" r...   \n",
       "1959  <a href=\"http://twitter.com/download/iphone\" r...   \n",
       "189   <a href=\"http://twitter.com/download/iphone\" r...   \n",
       "2178  <a href=\"http://twitter.com/download/iphone\" r...   \n",
       "989   <a href=\"http://twitter.com/download/iphone\" r...   \n",
       "\n",
       "                                                   text  retweeted_status_id  \\\n",
       "1194  This is Skittle. He's trying to communicate. 1...                  NaN   \n",
       "1146  When you're trying to enjoy yourself but end u...                  NaN   \n",
       "1195  This is Ebby. She's a Zimbabwean Feta. Embarra...                  NaN   \n",
       "1959  Sun burnt dog here. Quite large. Wants to prom...                  NaN   \n",
       "189   @s8n You tried very hard to portray this good ...                  NaN   \n",
       "2178  Super rare dog right here guys. Doesn't bark. ...                  NaN   \n",
       "989   Say hello to Divine Doggo. Must be magical af....                  NaN   \n",
       "\n",
       "      retweeted_status_user_id retweeted_status_timestamp  \\\n",
       "1194                       NaN                        NaN   \n",
       "1146                       NaN                        NaN   \n",
       "1195                       NaN                        NaN   \n",
       "1959                       NaN                        NaN   \n",
       "189                        NaN                        NaN   \n",
       "2178                       NaN                        NaN   \n",
       "989                        NaN                        NaN   \n",
       "\n",
       "                                          expanded_urls  rating_numerator  \\\n",
       "1194                      https://vine.co/v/iIhEU2lVqxz                11   \n",
       "1146                      https://vine.co/v/ixa1ejbXiM7                11   \n",
       "1195  https://twitter.com/dog_rates/status/717421804...                 9   \n",
       "1959  https://twitter.com/dog_rates/status/673576835...                 7   \n",
       "189                                                 NaN               666   \n",
       "2178  https://twitter.com/dog_rates/status/669015743...                10   \n",
       "989   https://twitter.com/dog_rates/status/748932637...                13   \n",
       "\n",
       "      rating_denominator     name  doggo floofer pupper puppo  \n",
       "1194                  10  Skittle   None    None   None  None  \n",
       "1146                  10     None   None    None   None  None  \n",
       "1195                  10     Ebby   None    None   None  None  \n",
       "1959                  10     None   None    None   None  None  \n",
       "189                   10     None   None    None   None  None  \n",
       "2178                  10     None   None    None   None  None  \n",
       "989                   10   Divine  doggo    None   None  None  "
      ]
     },
     "execution_count": 12,
     "metadata": {},
     "output_type": "execute_result"
    }
   ],
   "source": [
    "tweets.sample(7)"
   ]
  },
  {
   "cell_type": "code",
   "execution_count": 13,
   "metadata": {},
   "outputs": [
    {
     "name": "stdout",
     "output_type": "stream",
     "text": [
      "<class 'pandas.core.frame.DataFrame'>\n",
      "RangeIndex: 2356 entries, 0 to 2355\n",
      "Data columns (total 17 columns):\n",
      " #   Column                      Non-Null Count  Dtype  \n",
      "---  ------                      --------------  -----  \n",
      " 0   tweet_id                    2356 non-null   int64  \n",
      " 1   in_reply_to_status_id       78 non-null     float64\n",
      " 2   in_reply_to_user_id         78 non-null     float64\n",
      " 3   timestamp                   2356 non-null   object \n",
      " 4   source                      2356 non-null   object \n",
      " 5   text                        2356 non-null   object \n",
      " 6   retweeted_status_id         181 non-null    float64\n",
      " 7   retweeted_status_user_id    181 non-null    float64\n",
      " 8   retweeted_status_timestamp  181 non-null    object \n",
      " 9   expanded_urls               2297 non-null   object \n",
      " 10  rating_numerator            2356 non-null   int64  \n",
      " 11  rating_denominator          2356 non-null   int64  \n",
      " 12  name                        2356 non-null   object \n",
      " 13  doggo                       2356 non-null   object \n",
      " 14  floofer                     2356 non-null   object \n",
      " 15  pupper                      2356 non-null   object \n",
      " 16  puppo                       2356 non-null   object \n",
      "dtypes: float64(4), int64(3), object(10)\n",
      "memory usage: 313.0+ KB\n"
     ]
    }
   ],
   "source": [
    "# Programmatic assessment of twitter archive table\n",
    "tweets.info()"
   ]
  },
  {
   "cell_type": "code",
   "execution_count": 14,
   "metadata": {},
   "outputs": [
    {
     "data": {
      "text/plain": [
       "10     2333\n",
       "11        3\n",
       "50        3\n",
       "20        2\n",
       "80        2\n",
       "0         1\n",
       "120       1\n",
       "7         1\n",
       "170       1\n",
       "150       1\n",
       "130       1\n",
       "90        1\n",
       "110       1\n",
       "2         1\n",
       "70        1\n",
       "40        1\n",
       "16        1\n",
       "15        1\n",
       "Name: rating_denominator, dtype: int64"
      ]
     },
     "execution_count": 14,
     "metadata": {},
     "output_type": "execute_result"
    }
   ],
   "source": [
    "tweets.rating_denominator.value_counts()"
   ]
  },
  {
   "cell_type": "code",
   "execution_count": 15,
   "metadata": {},
   "outputs": [
    {
     "data": {
      "text/plain": [
       "12      558\n",
       "11      464\n",
       "10      461\n",
       "13      351\n",
       "9       158\n",
       "8       102\n",
       "7        55\n",
       "14       54\n",
       "5        37\n",
       "6        32\n",
       "3        19\n",
       "4        17\n",
       "1         9\n",
       "2         9\n",
       "0         2\n",
       "15        2\n",
       "75        2\n",
       "420       2\n",
       "182       1\n",
       "204       1\n",
       "143       1\n",
       "121       1\n",
       "99        1\n",
       "20        1\n",
       "45        1\n",
       "27        1\n",
       "17        1\n",
       "24        1\n",
       "26        1\n",
       "44        1\n",
       "50        1\n",
       "60        1\n",
       "80        1\n",
       "84        1\n",
       "88        1\n",
       "1776      1\n",
       "960       1\n",
       "666       1\n",
       "144       1\n",
       "165       1\n",
       "Name: rating_numerator, dtype: int64"
      ]
     },
     "execution_count": 15,
     "metadata": {},
     "output_type": "execute_result"
    }
   ],
   "source": [
    "tweets.rating_numerator.value_counts()"
   ]
  },
  {
   "cell_type": "code",
   "execution_count": 16,
   "metadata": {},
   "outputs": [
    {
     "data": {
      "text/plain": [
       "0"
      ]
     },
     "execution_count": 16,
     "metadata": {},
     "output_type": "execute_result"
    }
   ],
   "source": [
    "sum(tweets['tweet_id'].duplicated())"
   ]
  },
  {
   "cell_type": "code",
   "execution_count": 17,
   "metadata": {},
   "outputs": [
    {
     "data": {
      "text/plain": [
       "<a href=\"http://twitter.com/download/iphone\" rel=\"nofollow\">Twitter for iPhone</a>     2221\n",
       "<a href=\"http://vine.co\" rel=\"nofollow\">Vine - Make a Scene</a>                          91\n",
       "<a href=\"http://twitter.com\" rel=\"nofollow\">Twitter Web Client</a>                       33\n",
       "<a href=\"https://about.twitter.com/products/tweetdeck\" rel=\"nofollow\">TweetDeck</a>      11\n",
       "Name: source, dtype: int64"
      ]
     },
     "execution_count": 17,
     "metadata": {},
     "output_type": "execute_result"
    }
   ],
   "source": [
    "tweets.source.value_counts()"
   ]
  },
  {
   "cell_type": "code",
   "execution_count": 18,
   "metadata": {},
   "outputs": [
    {
     "data": {
      "text/plain": [
       "very            5\n",
       "unacceptable    1\n",
       "this            1\n",
       "the             8\n",
       "such            1\n",
       "               ..\n",
       "Aiden           1\n",
       "Adele           1\n",
       "Acro            1\n",
       "Ace             1\n",
       "Abby            2\n",
       "Name: name, Length: 957, dtype: int64"
      ]
     },
     "execution_count": 18,
     "metadata": {},
     "output_type": "execute_result"
    }
   ],
   "source": [
    "tweets.name.value_counts().sort_index(ascending=False)"
   ]
  },
  {
   "cell_type": "code",
   "execution_count": 19,
   "metadata": {},
   "outputs": [
    {
     "data": {
      "text/html": [
       "<div>\n",
       "<style scoped>\n",
       "    .dataframe tbody tr th:only-of-type {\n",
       "        vertical-align: middle;\n",
       "    }\n",
       "\n",
       "    .dataframe tbody tr th {\n",
       "        vertical-align: top;\n",
       "    }\n",
       "\n",
       "    .dataframe thead th {\n",
       "        text-align: right;\n",
       "    }\n",
       "</style>\n",
       "<table border=\"1\" class=\"dataframe\">\n",
       "  <thead>\n",
       "    <tr style=\"text-align: right;\">\n",
       "      <th></th>\n",
       "      <th>tweet_id</th>\n",
       "      <th>in_reply_to_status_id</th>\n",
       "      <th>in_reply_to_user_id</th>\n",
       "      <th>timestamp</th>\n",
       "      <th>source</th>\n",
       "      <th>text</th>\n",
       "      <th>retweeted_status_id</th>\n",
       "      <th>retweeted_status_user_id</th>\n",
       "      <th>retweeted_status_timestamp</th>\n",
       "      <th>expanded_urls</th>\n",
       "      <th>rating_numerator</th>\n",
       "      <th>rating_denominator</th>\n",
       "      <th>name</th>\n",
       "      <th>doggo</th>\n",
       "      <th>floofer</th>\n",
       "      <th>pupper</th>\n",
       "      <th>puppo</th>\n",
       "    </tr>\n",
       "  </thead>\n",
       "  <tbody>\n",
       "  </tbody>\n",
       "</table>\n",
       "</div>"
      ],
      "text/plain": [
       "Empty DataFrame\n",
       "Columns: [tweet_id, in_reply_to_status_id, in_reply_to_user_id, timestamp, source, text, retweeted_status_id, retweeted_status_user_id, retweeted_status_timestamp, expanded_urls, rating_numerator, rating_denominator, name, doggo, floofer, pupper, puppo]\n",
       "Index: []"
      ]
     },
     "execution_count": 19,
     "metadata": {},
     "output_type": "execute_result"
    }
   ],
   "source": [
    "tweets[tweets['name'].isnull()]"
   ]
  },
  {
   "cell_type": "code",
   "execution_count": 20,
   "metadata": {},
   "outputs": [
    {
     "data": {
      "text/html": [
       "<div>\n",
       "<style scoped>\n",
       "    .dataframe tbody tr th:only-of-type {\n",
       "        vertical-align: middle;\n",
       "    }\n",
       "\n",
       "    .dataframe tbody tr th {\n",
       "        vertical-align: top;\n",
       "    }\n",
       "\n",
       "    .dataframe thead th {\n",
       "        text-align: right;\n",
       "    }\n",
       "</style>\n",
       "<table border=\"1\" class=\"dataframe\">\n",
       "  <thead>\n",
       "    <tr style=\"text-align: right;\">\n",
       "      <th></th>\n",
       "      <th>tweet_id</th>\n",
       "      <th>jpg_url</th>\n",
       "      <th>img_num</th>\n",
       "      <th>p1</th>\n",
       "      <th>p1_conf</th>\n",
       "      <th>p1_dog</th>\n",
       "      <th>p2</th>\n",
       "      <th>p2_conf</th>\n",
       "      <th>p2_dog</th>\n",
       "      <th>p3</th>\n",
       "      <th>p3_conf</th>\n",
       "      <th>p3_dog</th>\n",
       "    </tr>\n",
       "  </thead>\n",
       "  <tbody>\n",
       "    <tr>\n",
       "      <th>0</th>\n",
       "      <td>666020888022790149</td>\n",
       "      <td>https://pbs.twimg.com/media/CT4udn0WwAA0aMy.jpg</td>\n",
       "      <td>1</td>\n",
       "      <td>Welsh_springer_spaniel</td>\n",
       "      <td>0.465074</td>\n",
       "      <td>True</td>\n",
       "      <td>collie</td>\n",
       "      <td>0.156665</td>\n",
       "      <td>True</td>\n",
       "      <td>Shetland_sheepdog</td>\n",
       "      <td>0.061428</td>\n",
       "      <td>True</td>\n",
       "    </tr>\n",
       "    <tr>\n",
       "      <th>1</th>\n",
       "      <td>666029285002620928</td>\n",
       "      <td>https://pbs.twimg.com/media/CT42GRgUYAA5iDo.jpg</td>\n",
       "      <td>1</td>\n",
       "      <td>redbone</td>\n",
       "      <td>0.506826</td>\n",
       "      <td>True</td>\n",
       "      <td>miniature_pinscher</td>\n",
       "      <td>0.074192</td>\n",
       "      <td>True</td>\n",
       "      <td>Rhodesian_ridgeback</td>\n",
       "      <td>0.072010</td>\n",
       "      <td>True</td>\n",
       "    </tr>\n",
       "    <tr>\n",
       "      <th>2</th>\n",
       "      <td>666033412701032449</td>\n",
       "      <td>https://pbs.twimg.com/media/CT4521TWwAEvMyu.jpg</td>\n",
       "      <td>1</td>\n",
       "      <td>German_shepherd</td>\n",
       "      <td>0.596461</td>\n",
       "      <td>True</td>\n",
       "      <td>malinois</td>\n",
       "      <td>0.138584</td>\n",
       "      <td>True</td>\n",
       "      <td>bloodhound</td>\n",
       "      <td>0.116197</td>\n",
       "      <td>True</td>\n",
       "    </tr>\n",
       "  </tbody>\n",
       "</table>\n",
       "</div>"
      ],
      "text/plain": [
       "             tweet_id                                          jpg_url  \\\n",
       "0  666020888022790149  https://pbs.twimg.com/media/CT4udn0WwAA0aMy.jpg   \n",
       "1  666029285002620928  https://pbs.twimg.com/media/CT42GRgUYAA5iDo.jpg   \n",
       "2  666033412701032449  https://pbs.twimg.com/media/CT4521TWwAEvMyu.jpg   \n",
       "\n",
       "   img_num                      p1   p1_conf  p1_dog                  p2  \\\n",
       "0        1  Welsh_springer_spaniel  0.465074    True              collie   \n",
       "1        1                 redbone  0.506826    True  miniature_pinscher   \n",
       "2        1         German_shepherd  0.596461    True            malinois   \n",
       "\n",
       "    p2_conf  p2_dog                   p3   p3_conf  p3_dog  \n",
       "0  0.156665    True    Shetland_sheepdog  0.061428    True  \n",
       "1  0.074192    True  Rhodesian_ridgeback  0.072010    True  \n",
       "2  0.138584    True           bloodhound  0.116197    True  "
      ]
     },
     "execution_count": 20,
     "metadata": {},
     "output_type": "execute_result"
    }
   ],
   "source": [
    "# Visual assessment of image prediction table\n",
    "image_pred.head(3)"
   ]
  },
  {
   "cell_type": "markdown",
   "metadata": {},
   "source": [
    "Image prediction columns description:\n",
    "\n",
    "<br>tweet_id: the unique identifier for each tweet\n",
    "<br>jpg_url: dog's image URL\n",
    "<br>img_num: the image number that corresponded to the most confident prediction (numbered 1 to 4 since tweets can have up to four images)\n",
    "<br>p1: algorithm's #1 prediction for the image in the tweet\n",
    "<br>p1_conf: how confident the algorithm is in its #1 prediction\n",
    "<br>p1_dog: whether or not the #1 prediction is a breed of dog\n",
    "<br>p2: algorithm's #2 prediction for the image in the tweet\n",
    "<br>p2_conf: how confident the algorithm is in its #2 prediction\n",
    "<br>p2_dog: whether or not the #2 prediction is a breed of dog\n",
    "<br>p3: algorithm's #3 prediction for the image in the tweet\n",
    "<br>p3_conf: how confident the algorithm is in its #3 prediction\n",
    "<br>p3_dog: whether or not the #3 prediction is a breed of dog"
   ]
  },
  {
   "cell_type": "code",
   "execution_count": 21,
   "metadata": {},
   "outputs": [
    {
     "data": {
      "text/html": [
       "<div>\n",
       "<style scoped>\n",
       "    .dataframe tbody tr th:only-of-type {\n",
       "        vertical-align: middle;\n",
       "    }\n",
       "\n",
       "    .dataframe tbody tr th {\n",
       "        vertical-align: top;\n",
       "    }\n",
       "\n",
       "    .dataframe thead th {\n",
       "        text-align: right;\n",
       "    }\n",
       "</style>\n",
       "<table border=\"1\" class=\"dataframe\">\n",
       "  <thead>\n",
       "    <tr style=\"text-align: right;\">\n",
       "      <th></th>\n",
       "      <th>tweet_id</th>\n",
       "      <th>jpg_url</th>\n",
       "      <th>img_num</th>\n",
       "      <th>p1</th>\n",
       "      <th>p1_conf</th>\n",
       "      <th>p1_dog</th>\n",
       "      <th>p2</th>\n",
       "      <th>p2_conf</th>\n",
       "      <th>p2_dog</th>\n",
       "      <th>p3</th>\n",
       "      <th>p3_conf</th>\n",
       "      <th>p3_dog</th>\n",
       "    </tr>\n",
       "  </thead>\n",
       "  <tbody>\n",
       "    <tr>\n",
       "      <th>1774</th>\n",
       "      <td>828046555563323392</td>\n",
       "      <td>https://pbs.twimg.com/media/C33P8PrUcAMiQQs.jpg</td>\n",
       "      <td>3</td>\n",
       "      <td>patio</td>\n",
       "      <td>0.272972</td>\n",
       "      <td>False</td>\n",
       "      <td>window_screen</td>\n",
       "      <td>0.131295</td>\n",
       "      <td>False</td>\n",
       "      <td>boathouse</td>\n",
       "      <td>0.046393</td>\n",
       "      <td>False</td>\n",
       "    </tr>\n",
       "    <tr>\n",
       "      <th>1544</th>\n",
       "      <td>791672322847637504</td>\n",
       "      <td>https://pbs.twimg.com/media/CvyVxQRWEAAdSZS.jpg</td>\n",
       "      <td>1</td>\n",
       "      <td>golden_retriever</td>\n",
       "      <td>0.705092</td>\n",
       "      <td>True</td>\n",
       "      <td>Labrador_retriever</td>\n",
       "      <td>0.219721</td>\n",
       "      <td>True</td>\n",
       "      <td>kuvasz</td>\n",
       "      <td>0.015965</td>\n",
       "      <td>True</td>\n",
       "    </tr>\n",
       "    <tr>\n",
       "      <th>57</th>\n",
       "      <td>667073648344346624</td>\n",
       "      <td>https://pbs.twimg.com/media/CUHr8WbWEAEBPgf.jpg</td>\n",
       "      <td>1</td>\n",
       "      <td>Chihuahua</td>\n",
       "      <td>0.483682</td>\n",
       "      <td>True</td>\n",
       "      <td>pug</td>\n",
       "      <td>0.092494</td>\n",
       "      <td>True</td>\n",
       "      <td>Brabancon_griffon</td>\n",
       "      <td>0.057495</td>\n",
       "      <td>True</td>\n",
       "    </tr>\n",
       "    <tr>\n",
       "      <th>1284</th>\n",
       "      <td>750506206503038976</td>\n",
       "      <td>https://pbs.twimg.com/media/CmpVaOZWIAAp3z6.jpg</td>\n",
       "      <td>1</td>\n",
       "      <td>American_black_bear</td>\n",
       "      <td>0.219166</td>\n",
       "      <td>False</td>\n",
       "      <td>lesser_panda</td>\n",
       "      <td>0.214715</td>\n",
       "      <td>False</td>\n",
       "      <td>titi</td>\n",
       "      <td>0.091685</td>\n",
       "      <td>False</td>\n",
       "    </tr>\n",
       "    <tr>\n",
       "      <th>233</th>\n",
       "      <td>670420569653809152</td>\n",
       "      <td>https://pbs.twimg.com/media/CU3P82RWEAAIVrE.jpg</td>\n",
       "      <td>1</td>\n",
       "      <td>bow_tie</td>\n",
       "      <td>0.268759</td>\n",
       "      <td>False</td>\n",
       "      <td>cardigan</td>\n",
       "      <td>0.153957</td>\n",
       "      <td>False</td>\n",
       "      <td>wig</td>\n",
       "      <td>0.072295</td>\n",
       "      <td>False</td>\n",
       "    </tr>\n",
       "    <tr>\n",
       "      <th>16</th>\n",
       "      <td>666102155909144576</td>\n",
       "      <td>https://pbs.twimg.com/media/CT54YGiWUAEZnoK.jpg</td>\n",
       "      <td>1</td>\n",
       "      <td>English_setter</td>\n",
       "      <td>0.298617</td>\n",
       "      <td>True</td>\n",
       "      <td>Newfoundland</td>\n",
       "      <td>0.149842</td>\n",
       "      <td>True</td>\n",
       "      <td>borzoi</td>\n",
       "      <td>0.133649</td>\n",
       "      <td>True</td>\n",
       "    </tr>\n",
       "    <tr>\n",
       "      <th>271</th>\n",
       "      <td>670823764196741120</td>\n",
       "      <td>https://pbs.twimg.com/media/CU8-puBWwAAR8Xl.jpg</td>\n",
       "      <td>1</td>\n",
       "      <td>Labrador_retriever</td>\n",
       "      <td>0.947453</td>\n",
       "      <td>True</td>\n",
       "      <td>German_short-haired_pointer</td>\n",
       "      <td>0.017001</td>\n",
       "      <td>True</td>\n",
       "      <td>Weimaraner</td>\n",
       "      <td>0.015432</td>\n",
       "      <td>True</td>\n",
       "    </tr>\n",
       "  </tbody>\n",
       "</table>\n",
       "</div>"
      ],
      "text/plain": [
       "                tweet_id                                          jpg_url  \\\n",
       "1774  828046555563323392  https://pbs.twimg.com/media/C33P8PrUcAMiQQs.jpg   \n",
       "1544  791672322847637504  https://pbs.twimg.com/media/CvyVxQRWEAAdSZS.jpg   \n",
       "57    667073648344346624  https://pbs.twimg.com/media/CUHr8WbWEAEBPgf.jpg   \n",
       "1284  750506206503038976  https://pbs.twimg.com/media/CmpVaOZWIAAp3z6.jpg   \n",
       "233   670420569653809152  https://pbs.twimg.com/media/CU3P82RWEAAIVrE.jpg   \n",
       "16    666102155909144576  https://pbs.twimg.com/media/CT54YGiWUAEZnoK.jpg   \n",
       "271   670823764196741120  https://pbs.twimg.com/media/CU8-puBWwAAR8Xl.jpg   \n",
       "\n",
       "      img_num                   p1   p1_conf  p1_dog  \\\n",
       "1774        3                patio  0.272972   False   \n",
       "1544        1     golden_retriever  0.705092    True   \n",
       "57          1            Chihuahua  0.483682    True   \n",
       "1284        1  American_black_bear  0.219166   False   \n",
       "233         1              bow_tie  0.268759   False   \n",
       "16          1       English_setter  0.298617    True   \n",
       "271         1   Labrador_retriever  0.947453    True   \n",
       "\n",
       "                               p2   p2_conf  p2_dog                 p3  \\\n",
       "1774                window_screen  0.131295   False          boathouse   \n",
       "1544           Labrador_retriever  0.219721    True             kuvasz   \n",
       "57                            pug  0.092494    True  Brabancon_griffon   \n",
       "1284                 lesser_panda  0.214715   False               titi   \n",
       "233                      cardigan  0.153957   False                wig   \n",
       "16                   Newfoundland  0.149842    True             borzoi   \n",
       "271   German_short-haired_pointer  0.017001    True         Weimaraner   \n",
       "\n",
       "       p3_conf  p3_dog  \n",
       "1774  0.046393   False  \n",
       "1544  0.015965    True  \n",
       "57    0.057495    True  \n",
       "1284  0.091685   False  \n",
       "233   0.072295   False  \n",
       "16    0.133649    True  \n",
       "271   0.015432    True  "
      ]
     },
     "execution_count": 21,
     "metadata": {},
     "output_type": "execute_result"
    }
   ],
   "source": [
    "image_pred.sample(7)"
   ]
  },
  {
   "cell_type": "code",
   "execution_count": 22,
   "metadata": {},
   "outputs": [
    {
     "name": "stdout",
     "output_type": "stream",
     "text": [
      "<class 'pandas.core.frame.DataFrame'>\n",
      "RangeIndex: 2075 entries, 0 to 2074\n",
      "Data columns (total 12 columns):\n",
      " #   Column    Non-Null Count  Dtype  \n",
      "---  ------    --------------  -----  \n",
      " 0   tweet_id  2075 non-null   int64  \n",
      " 1   jpg_url   2075 non-null   object \n",
      " 2   img_num   2075 non-null   int64  \n",
      " 3   p1        2075 non-null   object \n",
      " 4   p1_conf   2075 non-null   float64\n",
      " 5   p1_dog    2075 non-null   bool   \n",
      " 6   p2        2075 non-null   object \n",
      " 7   p2_conf   2075 non-null   float64\n",
      " 8   p2_dog    2075 non-null   bool   \n",
      " 9   p3        2075 non-null   object \n",
      " 10  p3_conf   2075 non-null   float64\n",
      " 11  p3_dog    2075 non-null   bool   \n",
      "dtypes: bool(3), float64(3), int64(2), object(4)\n",
      "memory usage: 152.1+ KB\n"
     ]
    }
   ],
   "source": [
    "# Programmatic assessment of image prediction table\n",
    "image_pred.info()"
   ]
  },
  {
   "cell_type": "code",
   "execution_count": 23,
   "metadata": {},
   "outputs": [
    {
     "data": {
      "text/plain": [
       "0"
      ]
     },
     "execution_count": 23,
     "metadata": {},
     "output_type": "execute_result"
    }
   ],
   "source": [
    "sum(image_pred.tweet_id.duplicated())"
   ]
  },
  {
   "cell_type": "code",
   "execution_count": 24,
   "metadata": {},
   "outputs": [
    {
     "name": "stdout",
     "output_type": "stream",
     "text": [
      "True     1532\n",
      "False     543\n",
      "Name: p1_dog, dtype: int64\n"
     ]
    }
   ],
   "source": [
    "print(image_pred.p1_dog.value_counts())"
   ]
  },
  {
   "cell_type": "code",
   "execution_count": 25,
   "metadata": {},
   "outputs": [
    {
     "data": {
      "text/html": [
       "<div>\n",
       "<style scoped>\n",
       "    .dataframe tbody tr th:only-of-type {\n",
       "        vertical-align: middle;\n",
       "    }\n",
       "\n",
       "    .dataframe tbody tr th {\n",
       "        vertical-align: top;\n",
       "    }\n",
       "\n",
       "    .dataframe thead th {\n",
       "        text-align: right;\n",
       "    }\n",
       "</style>\n",
       "<table border=\"1\" class=\"dataframe\">\n",
       "  <thead>\n",
       "    <tr style=\"text-align: right;\">\n",
       "      <th></th>\n",
       "      <th>tweet_id</th>\n",
       "      <th>likes</th>\n",
       "      <th>retweets</th>\n",
       "    </tr>\n",
       "  </thead>\n",
       "  <tbody>\n",
       "    <tr>\n",
       "      <th>0</th>\n",
       "      <td>876484053909872640</td>\n",
       "      <td>16864</td>\n",
       "      <td>2038</td>\n",
       "    </tr>\n",
       "    <tr>\n",
       "      <th>1</th>\n",
       "      <td>886366144734445568</td>\n",
       "      <td>18897</td>\n",
       "      <td>2688</td>\n",
       "    </tr>\n",
       "    <tr>\n",
       "      <th>2</th>\n",
       "      <td>877611172832227328</td>\n",
       "      <td>0</td>\n",
       "      <td>70</td>\n",
       "    </tr>\n",
       "  </tbody>\n",
       "</table>\n",
       "</div>"
      ],
      "text/plain": [
       "             tweet_id  likes  retweets\n",
       "0  876484053909872640  16864      2038\n",
       "1  886366144734445568  18897      2688\n",
       "2  877611172832227328      0        70"
      ]
     },
     "execution_count": 25,
     "metadata": {},
     "output_type": "execute_result"
    }
   ],
   "source": [
    "# Visual assessment of engagement table\n",
    "engagement.head(3)"
   ]
  },
  {
   "cell_type": "code",
   "execution_count": 26,
   "metadata": {},
   "outputs": [
    {
     "name": "stdout",
     "output_type": "stream",
     "text": [
      "<class 'pandas.core.frame.DataFrame'>\n",
      "RangeIndex: 2328 entries, 0 to 2327\n",
      "Data columns (total 3 columns):\n",
      " #   Column    Non-Null Count  Dtype\n",
      "---  ------    --------------  -----\n",
      " 0   tweet_id  2328 non-null   int64\n",
      " 1   likes     2328 non-null   int64\n",
      " 2   retweets  2328 non-null   int64\n",
      "dtypes: int64(3)\n",
      "memory usage: 54.7 KB\n"
     ]
    }
   ],
   "source": [
    "# Proggramatic assessment of engagement table\n",
    "engagement.info()"
   ]
  },
  {
   "cell_type": "markdown",
   "metadata": {},
   "source": [
    "### Quality issues\n",
    "\n",
    "• [#1](#issue_1) Number of observations differ in twitter-archive-enhanced(2356), imgage_predictions(2075) and tweet_json(2327).\n",
    "\n",
    "• [#4](#issue_4) Set up tweet_id column as index in tweets_master table for work confinience.\n",
    "\n",
    "• [#5](#issue_5) Some rows contain more than one dog stage.\n",
    "\n",
    "• [#6](#issue_6) Missing values in doggo, floofer, pupper and puppo columns.\n",
    "\n",
    "• [#8](#issue_8) Redundant retweet rows.\n",
    "\n",
    "• [#9](#issue_9) Redundant columns 'in_reply_to_status_id', 'in_reply_to_user_id', 'source', 'retweeted_status_id', 'retweeted_status_user_id', 'retweeted_status_timestamp', 'expanded_urls' in tweets table. \n",
    "\n",
    "• [#10](#issue_10) Wrong data type of ‘timestamp’ (object instead of timestamp) column.\n",
    "\n",
    "• [#11](#issue_11) Inconsistencies in the 'rating_denominator' column need to be investigated and fixed if possible. Issues might have happened during text parsing and though I'll display text to check it.\n",
    "\n",
    "• [#12](#issue_12)There are inconsistencies in the 'rating_numerator' column (numerator is greater than denominator, too great values). 'Numerator is greater than denominator' is mainly a feature of WeRateDogs account, but partly might be an issue during text parsing.\n",
    "\n",
    "• [#13](#issue_13) Upper and lowercase breed names."
   ]
  },
  {
   "cell_type": "markdown",
   "metadata": {
    "extensions": {
     "jupyter_dashboards": {
      "version": 1,
      "views": {
       "grid_default": {
        "col": 0,
        "height": 7,
        "hidden": false,
        "row": 40,
        "width": 12
       },
       "report_default": {
        "hidden": false
       }
      }
     }
    }
   },
   "source": [
    "### Tidiness issues\n",
    "\n",
    "• [#2](#issue_2) Breeds and confidence levels for the breed predictions column from the image prediction table should be part of the tweets table.\n",
    "\n",
    "• [#3](#issue_3) Engagement table (retweet_count and favorite_count columns) should be part of the tweets table.\n",
    "\n",
    "• [#7](#issue_7) 4 columns (doggo, floofer, pupper, puppo) are categories of dog ‘stage’ and need to be one column ‘stage’ with 4 categories: doggo, floofer, pupper and puppo in it."
   ]
  },
  {
   "cell_type": "markdown",
   "metadata": {
    "extensions": {
     "jupyter_dashboards": {
      "version": 1,
      "views": {
       "grid_default": {
        "col": 4,
        "height": 4,
        "hidden": false,
        "row": 32,
        "width": 4
       },
       "report_default": {
        "hidden": false
       }
      }
     }
    }
   },
   "source": [
    "## Cleaning Data"
   ]
  },
  {
   "cell_type": "code",
   "execution_count": 27,
   "metadata": {},
   "outputs": [],
   "source": [
    "# Make copies of original pieces of data\n",
    "tweets_clean = tweets.copy()\n",
    "image_pred_clean = image_pred.copy()\n",
    "engagement_clean = engagement.copy()"
   ]
  },
  {
   "cell_type": "markdown",
   "metadata": {},
   "source": [
    "<a id='issue_1'></a>\n",
    "### Issue #1:"
   ]
  },
  {
   "cell_type": "markdown",
   "metadata": {},
   "source": [
    "Number of observations differ in twitter-archive-enhanced(2356), imgage_predictions(2075) and tweet_json(2327).\n",
    "<br>\n",
    "<br> Even thou this is an important issue to fix it can't be addressed in this project due to project's set up (we don't have ids of the rest of the tweets in twitter archive to be able to downlode them, some tweets have been deleted and their data are unaccesseble). "
   ]
  },
  {
   "cell_type": "markdown",
   "metadata": {},
   "source": [
    "### Tidiness issues\n",
    "\n",
    "To be able to analyse WeRateDogs tweets I need to create one DataFrame containing necessary information: about tweets themself (tweets table), dogs breed column based on predictions in image prediction table and amount of likes and retweets from engagement table. "
   ]
  },
  {
   "cell_type": "markdown",
   "metadata": {},
   "source": [
    "<a id='issue_2'></a>\n",
    "### Issue #2:\n",
    "#### Define\n",
    "Breed prediction and it's confidence level from image prediction table need to be part of the main (tweets) table. To do so I am going to isolate breed prediction for each row based on True/False in p1_dog, p2_dog, p3_dog columns, take corresponding confidence level and merge them with tweets table as 'breed' and 'confidence_level' columns based on 'tweet_id' column."
   ]
  },
  {
   "cell_type": "markdown",
   "metadata": {},
   "source": [
    "#### Code"
   ]
  },
  {
   "cell_type": "code",
   "execution_count": 28,
   "metadata": {},
   "outputs": [],
   "source": [
    "# Empty lists to transform them into DF later\n",
    "tweet_id = []\n",
    "breed = []\n",
    "confidence_level = []\n",
    "\n",
    "# Function that checks breed predictions and add tweet_id, breed and confidence_level to corresponding lists\n",
    "def predictions(image_pred_clean):\n",
    "    if image_pred_clean['p1_dog'] == True:\n",
    "        breed.append(image_pred_clean['p1'])\n",
    "        confidence_level.append(image_pred_clean['p1_conf'])\n",
    "        tweet_id.append(image_pred_clean['tweet_id'])\n",
    "    elif image_pred_clean['p2_dog'] == True:\n",
    "        breed.append(image_pred_clean['p2'])\n",
    "        confidence_level.append(image_pred_clean['p2_conf'])\n",
    "        tweet_id.append(image_pred_clean['tweet_id'])\n",
    "    elif image_pred_clean['p3_dog'] == True:\n",
    "        breed.append(image_pred_clean['p3'])\n",
    "        confidence_level.append(image_pred_clean['p3_conf'])\n",
    "        tweet_id.append(image_pred_clean['tweet_id'])\n",
    "    else:\n",
    "        tweet_id.append(image_pred_clean['tweet_id'])\n",
    "        breed.append(np.nan)\n",
    "        confidence_level.append(np.nan)\n",
    "        \n",
    "# Apply above function on image prediction table\n",
    "image_pred_clean.apply(predictions, axis=1)\n",
    "\n",
    "# Transform lists into data frame\n",
    "breeds = pd.DataFrame({'tweet_id': tweet_id, 'breed': breed, 'confidence_level': confidence_level})"
   ]
  },
  {
   "cell_type": "code",
   "execution_count": 29,
   "metadata": {},
   "outputs": [],
   "source": [
    "# Merge tweets and breeds tables\n",
    "tweets_master = pd.merge(tweets_clean, breeds, on=['tweet_id'], how='left')"
   ]
  },
  {
   "cell_type": "markdown",
   "metadata": {},
   "source": [
    "#### Test"
   ]
  },
  {
   "cell_type": "code",
   "execution_count": 30,
   "metadata": {},
   "outputs": [
    {
     "data": {
      "text/html": [
       "<div>\n",
       "<style scoped>\n",
       "    .dataframe tbody tr th:only-of-type {\n",
       "        vertical-align: middle;\n",
       "    }\n",
       "\n",
       "    .dataframe tbody tr th {\n",
       "        vertical-align: top;\n",
       "    }\n",
       "\n",
       "    .dataframe thead th {\n",
       "        text-align: right;\n",
       "    }\n",
       "</style>\n",
       "<table border=\"1\" class=\"dataframe\">\n",
       "  <thead>\n",
       "    <tr style=\"text-align: right;\">\n",
       "      <th></th>\n",
       "      <th>tweet_id</th>\n",
       "      <th>in_reply_to_status_id</th>\n",
       "      <th>in_reply_to_user_id</th>\n",
       "      <th>timestamp</th>\n",
       "      <th>source</th>\n",
       "      <th>text</th>\n",
       "      <th>retweeted_status_id</th>\n",
       "      <th>retweeted_status_user_id</th>\n",
       "      <th>retweeted_status_timestamp</th>\n",
       "      <th>expanded_urls</th>\n",
       "      <th>rating_numerator</th>\n",
       "      <th>rating_denominator</th>\n",
       "      <th>name</th>\n",
       "      <th>doggo</th>\n",
       "      <th>floofer</th>\n",
       "      <th>pupper</th>\n",
       "      <th>puppo</th>\n",
       "      <th>breed</th>\n",
       "      <th>confidence_level</th>\n",
       "    </tr>\n",
       "  </thead>\n",
       "  <tbody>\n",
       "    <tr>\n",
       "      <th>0</th>\n",
       "      <td>892420643555336193</td>\n",
       "      <td>NaN</td>\n",
       "      <td>NaN</td>\n",
       "      <td>2017-08-01 16:23:56 +0000</td>\n",
       "      <td>&lt;a href=\"http://twitter.com/download/iphone\" r...</td>\n",
       "      <td>This is Phineas. He's a mystical boy. Only eve...</td>\n",
       "      <td>NaN</td>\n",
       "      <td>NaN</td>\n",
       "      <td>NaN</td>\n",
       "      <td>https://twitter.com/dog_rates/status/892420643...</td>\n",
       "      <td>13</td>\n",
       "      <td>10</td>\n",
       "      <td>Phineas</td>\n",
       "      <td>None</td>\n",
       "      <td>None</td>\n",
       "      <td>None</td>\n",
       "      <td>None</td>\n",
       "      <td>NaN</td>\n",
       "      <td>NaN</td>\n",
       "    </tr>\n",
       "    <tr>\n",
       "      <th>1</th>\n",
       "      <td>892177421306343426</td>\n",
       "      <td>NaN</td>\n",
       "      <td>NaN</td>\n",
       "      <td>2017-08-01 00:17:27 +0000</td>\n",
       "      <td>&lt;a href=\"http://twitter.com/download/iphone\" r...</td>\n",
       "      <td>This is Tilly. She's just checking pup on you....</td>\n",
       "      <td>NaN</td>\n",
       "      <td>NaN</td>\n",
       "      <td>NaN</td>\n",
       "      <td>https://twitter.com/dog_rates/status/892177421...</td>\n",
       "      <td>13</td>\n",
       "      <td>10</td>\n",
       "      <td>Tilly</td>\n",
       "      <td>None</td>\n",
       "      <td>None</td>\n",
       "      <td>None</td>\n",
       "      <td>None</td>\n",
       "      <td>Chihuahua</td>\n",
       "      <td>0.323581</td>\n",
       "    </tr>\n",
       "  </tbody>\n",
       "</table>\n",
       "</div>"
      ],
      "text/plain": [
       "             tweet_id  in_reply_to_status_id  in_reply_to_user_id  \\\n",
       "0  892420643555336193                    NaN                  NaN   \n",
       "1  892177421306343426                    NaN                  NaN   \n",
       "\n",
       "                   timestamp  \\\n",
       "0  2017-08-01 16:23:56 +0000   \n",
       "1  2017-08-01 00:17:27 +0000   \n",
       "\n",
       "                                              source  \\\n",
       "0  <a href=\"http://twitter.com/download/iphone\" r...   \n",
       "1  <a href=\"http://twitter.com/download/iphone\" r...   \n",
       "\n",
       "                                                text  retweeted_status_id  \\\n",
       "0  This is Phineas. He's a mystical boy. Only eve...                  NaN   \n",
       "1  This is Tilly. She's just checking pup on you....                  NaN   \n",
       "\n",
       "   retweeted_status_user_id retweeted_status_timestamp  \\\n",
       "0                       NaN                        NaN   \n",
       "1                       NaN                        NaN   \n",
       "\n",
       "                                       expanded_urls  rating_numerator  \\\n",
       "0  https://twitter.com/dog_rates/status/892420643...                13   \n",
       "1  https://twitter.com/dog_rates/status/892177421...                13   \n",
       "\n",
       "   rating_denominator     name doggo floofer pupper puppo      breed  \\\n",
       "0                  10  Phineas  None    None   None  None        NaN   \n",
       "1                  10    Tilly  None    None   None  None  Chihuahua   \n",
       "\n",
       "   confidence_level  \n",
       "0               NaN  \n",
       "1          0.323581  "
      ]
     },
     "execution_count": 30,
     "metadata": {},
     "output_type": "execute_result"
    }
   ],
   "source": [
    "tweets_master.head(2)"
   ]
  },
  {
   "cell_type": "markdown",
   "metadata": {
    "collapsed": true,
    "extensions": {
     "jupyter_dashboards": {
      "version": 1,
      "views": {
       "grid_default": {
        "hidden": true
       },
       "report_default": {
        "hidden": true
       }
      }
     }
    }
   },
   "source": [
    "<a id='issue_3'></a>\n",
    "### Issue #3:\n",
    "#### Define\n",
    "Engagment table need to be part of the main (tweets) table. I am going to merge them using 'tweet_id' column as base."
   ]
  },
  {
   "cell_type": "markdown",
   "metadata": {},
   "source": [
    "#### Code"
   ]
  },
  {
   "cell_type": "code",
   "execution_count": 31,
   "metadata": {},
   "outputs": [],
   "source": [
    "# Merge tweets and breeds tables\n",
    "tweets_master = pd.merge(tweets_master, engagement_clean, on=['tweet_id'], how='left')\n",
    "\n",
    "# Preserve 'likes' and 'retweets' columns data types\n",
    "tweets_master['likes']=tweets_master['likes'].astype('Int64')\n",
    "tweets_master['retweets']=tweets_master['retweets'].astype('Int64')"
   ]
  },
  {
   "cell_type": "markdown",
   "metadata": {},
   "source": [
    "#### Test"
   ]
  },
  {
   "cell_type": "code",
   "execution_count": 32,
   "metadata": {},
   "outputs": [
    {
     "data": {
      "text/html": [
       "<div>\n",
       "<style scoped>\n",
       "    .dataframe tbody tr th:only-of-type {\n",
       "        vertical-align: middle;\n",
       "    }\n",
       "\n",
       "    .dataframe tbody tr th {\n",
       "        vertical-align: top;\n",
       "    }\n",
       "\n",
       "    .dataframe thead th {\n",
       "        text-align: right;\n",
       "    }\n",
       "</style>\n",
       "<table border=\"1\" class=\"dataframe\">\n",
       "  <thead>\n",
       "    <tr style=\"text-align: right;\">\n",
       "      <th></th>\n",
       "      <th>tweet_id</th>\n",
       "      <th>in_reply_to_status_id</th>\n",
       "      <th>in_reply_to_user_id</th>\n",
       "      <th>timestamp</th>\n",
       "      <th>source</th>\n",
       "      <th>text</th>\n",
       "      <th>retweeted_status_id</th>\n",
       "      <th>retweeted_status_user_id</th>\n",
       "      <th>retweeted_status_timestamp</th>\n",
       "      <th>expanded_urls</th>\n",
       "      <th>...</th>\n",
       "      <th>rating_denominator</th>\n",
       "      <th>name</th>\n",
       "      <th>doggo</th>\n",
       "      <th>floofer</th>\n",
       "      <th>pupper</th>\n",
       "      <th>puppo</th>\n",
       "      <th>breed</th>\n",
       "      <th>confidence_level</th>\n",
       "      <th>likes</th>\n",
       "      <th>retweets</th>\n",
       "    </tr>\n",
       "  </thead>\n",
       "  <tbody>\n",
       "    <tr>\n",
       "      <th>0</th>\n",
       "      <td>892420643555336193</td>\n",
       "      <td>NaN</td>\n",
       "      <td>NaN</td>\n",
       "      <td>2017-08-01 16:23:56 +0000</td>\n",
       "      <td>&lt;a href=\"http://twitter.com/download/iphone\" r...</td>\n",
       "      <td>This is Phineas. He's a mystical boy. Only eve...</td>\n",
       "      <td>NaN</td>\n",
       "      <td>NaN</td>\n",
       "      <td>NaN</td>\n",
       "      <td>https://twitter.com/dog_rates/status/892420643...</td>\n",
       "      <td>...</td>\n",
       "      <td>10</td>\n",
       "      <td>Phineas</td>\n",
       "      <td>None</td>\n",
       "      <td>None</td>\n",
       "      <td>None</td>\n",
       "      <td>None</td>\n",
       "      <td>NaN</td>\n",
       "      <td>NaN</td>\n",
       "      <td>34422</td>\n",
       "      <td>7153</td>\n",
       "    </tr>\n",
       "    <tr>\n",
       "      <th>1</th>\n",
       "      <td>892177421306343426</td>\n",
       "      <td>NaN</td>\n",
       "      <td>NaN</td>\n",
       "      <td>2017-08-01 00:17:27 +0000</td>\n",
       "      <td>&lt;a href=\"http://twitter.com/download/iphone\" r...</td>\n",
       "      <td>This is Tilly. She's just checking pup on you....</td>\n",
       "      <td>NaN</td>\n",
       "      <td>NaN</td>\n",
       "      <td>NaN</td>\n",
       "      <td>https://twitter.com/dog_rates/status/892177421...</td>\n",
       "      <td>...</td>\n",
       "      <td>10</td>\n",
       "      <td>Tilly</td>\n",
       "      <td>None</td>\n",
       "      <td>None</td>\n",
       "      <td>None</td>\n",
       "      <td>None</td>\n",
       "      <td>Chihuahua</td>\n",
       "      <td>0.323581</td>\n",
       "      <td>29850</td>\n",
       "      <td>5380</td>\n",
       "    </tr>\n",
       "  </tbody>\n",
       "</table>\n",
       "<p>2 rows × 21 columns</p>\n",
       "</div>"
      ],
      "text/plain": [
       "             tweet_id  in_reply_to_status_id  in_reply_to_user_id  \\\n",
       "0  892420643555336193                    NaN                  NaN   \n",
       "1  892177421306343426                    NaN                  NaN   \n",
       "\n",
       "                   timestamp  \\\n",
       "0  2017-08-01 16:23:56 +0000   \n",
       "1  2017-08-01 00:17:27 +0000   \n",
       "\n",
       "                                              source  \\\n",
       "0  <a href=\"http://twitter.com/download/iphone\" r...   \n",
       "1  <a href=\"http://twitter.com/download/iphone\" r...   \n",
       "\n",
       "                                                text  retweeted_status_id  \\\n",
       "0  This is Phineas. He's a mystical boy. Only eve...                  NaN   \n",
       "1  This is Tilly. She's just checking pup on you....                  NaN   \n",
       "\n",
       "   retweeted_status_user_id retweeted_status_timestamp  \\\n",
       "0                       NaN                        NaN   \n",
       "1                       NaN                        NaN   \n",
       "\n",
       "                                       expanded_urls  ...  rating_denominator  \\\n",
       "0  https://twitter.com/dog_rates/status/892420643...  ...                  10   \n",
       "1  https://twitter.com/dog_rates/status/892177421...  ...                  10   \n",
       "\n",
       "      name doggo floofer pupper puppo      breed confidence_level  likes  \\\n",
       "0  Phineas  None    None   None  None        NaN              NaN  34422   \n",
       "1    Tilly  None    None   None  None  Chihuahua         0.323581  29850   \n",
       "\n",
       "   retweets  \n",
       "0      7153  \n",
       "1      5380  \n",
       "\n",
       "[2 rows x 21 columns]"
      ]
     },
     "execution_count": 32,
     "metadata": {},
     "output_type": "execute_result"
    }
   ],
   "source": [
    "tweets_master.head(2)"
   ]
  },
  {
   "cell_type": "code",
   "execution_count": 33,
   "metadata": {},
   "outputs": [
    {
     "name": "stdout",
     "output_type": "stream",
     "text": [
      "<class 'pandas.core.frame.DataFrame'>\n",
      "Int64Index: 2356 entries, 0 to 2355\n",
      "Data columns (total 21 columns):\n",
      " #   Column                      Non-Null Count  Dtype  \n",
      "---  ------                      --------------  -----  \n",
      " 0   tweet_id                    2356 non-null   int64  \n",
      " 1   in_reply_to_status_id       78 non-null     float64\n",
      " 2   in_reply_to_user_id         78 non-null     float64\n",
      " 3   timestamp                   2356 non-null   object \n",
      " 4   source                      2356 non-null   object \n",
      " 5   text                        2356 non-null   object \n",
      " 6   retweeted_status_id         181 non-null    float64\n",
      " 7   retweeted_status_user_id    181 non-null    float64\n",
      " 8   retweeted_status_timestamp  181 non-null    object \n",
      " 9   expanded_urls               2297 non-null   object \n",
      " 10  rating_numerator            2356 non-null   int64  \n",
      " 11  rating_denominator          2356 non-null   int64  \n",
      " 12  name                        2356 non-null   object \n",
      " 13  doggo                       2356 non-null   object \n",
      " 14  floofer                     2356 non-null   object \n",
      " 15  pupper                      2356 non-null   object \n",
      " 16  puppo                       2356 non-null   object \n",
      " 17  breed                       1751 non-null   object \n",
      " 18  confidence_level            1751 non-null   float64\n",
      " 19  likes                       2328 non-null   Int64  \n",
      " 20  retweets                    2328 non-null   Int64  \n",
      "dtypes: Int64(2), float64(5), int64(3), object(11)\n",
      "memory usage: 409.5+ KB\n"
     ]
    }
   ],
   "source": [
    "tweets_master.info()"
   ]
  },
  {
   "cell_type": "markdown",
   "metadata": {},
   "source": [
    "<a id='issue_4'></a>\n",
    "### Issue #4:\n",
    "#### Define\n",
    "Set up tweet_id column as index in tweets_master table for work confinience."
   ]
  },
  {
   "cell_type": "markdown",
   "metadata": {},
   "source": [
    "#### Code"
   ]
  },
  {
   "cell_type": "code",
   "execution_count": 34,
   "metadata": {},
   "outputs": [],
   "source": [
    "tweets_master['tweet_id'] = tweets_master['tweet_id'].astype(str)\n",
    "tweets_master = tweets_master.set_index('tweet_id')"
   ]
  },
  {
   "cell_type": "markdown",
   "metadata": {},
   "source": [
    "#### Test"
   ]
  },
  {
   "cell_type": "code",
   "execution_count": 35,
   "metadata": {},
   "outputs": [
    {
     "name": "stdout",
     "output_type": "stream",
     "text": [
      "<class 'pandas.core.frame.DataFrame'>\n",
      "Index: 2356 entries, 892420643555336193 to 666020888022790149\n",
      "Data columns (total 20 columns):\n",
      " #   Column                      Non-Null Count  Dtype  \n",
      "---  ------                      --------------  -----  \n",
      " 0   in_reply_to_status_id       78 non-null     float64\n",
      " 1   in_reply_to_user_id         78 non-null     float64\n",
      " 2   timestamp                   2356 non-null   object \n",
      " 3   source                      2356 non-null   object \n",
      " 4   text                        2356 non-null   object \n",
      " 5   retweeted_status_id         181 non-null    float64\n",
      " 6   retweeted_status_user_id    181 non-null    float64\n",
      " 7   retweeted_status_timestamp  181 non-null    object \n",
      " 8   expanded_urls               2297 non-null   object \n",
      " 9   rating_numerator            2356 non-null   int64  \n",
      " 10  rating_denominator          2356 non-null   int64  \n",
      " 11  name                        2356 non-null   object \n",
      " 12  doggo                       2356 non-null   object \n",
      " 13  floofer                     2356 non-null   object \n",
      " 14  pupper                      2356 non-null   object \n",
      " 15  puppo                       2356 non-null   object \n",
      " 16  breed                       1751 non-null   object \n",
      " 17  confidence_level            1751 non-null   float64\n",
      " 18  likes                       2328 non-null   Int64  \n",
      " 19  retweets                    2328 non-null   Int64  \n",
      "dtypes: Int64(2), float64(5), int64(2), object(11)\n",
      "memory usage: 391.1+ KB\n"
     ]
    }
   ],
   "source": [
    "tweets_master.info()"
   ]
  },
  {
   "cell_type": "markdown",
   "metadata": {},
   "source": [
    "#### NB\n",
    "To be able to fix the last one tideness issue (transform doggo, floofer, pupper and puppo columns into one with 4 categories) I need to clean up few quality issues related to these columns."
   ]
  },
  {
   "cell_type": "markdown",
   "metadata": {},
   "source": [
    "<a id='issue_5'></a>\n",
    "### Issue #5:\n",
    "#### Define\n",
    "Some rows contain more than one dog stage. Since there are not so many such rows it is possible to fix them manually by reading tweets' text."
   ]
  },
  {
   "cell_type": "markdown",
   "metadata": {},
   "source": [
    "#### Code"
   ]
  },
  {
   "cell_type": "code",
   "execution_count": 36,
   "metadata": {},
   "outputs": [
    {
     "name": "stdout",
     "output_type": "stream",
     "text": [
      "855851453814013952 Here's a puppo participating in the #ScienceMarch. Cleverly disguising her own doggo agenda. 13/10 would keep the planet habitable for https://t.co/cMhq16isel ['doggo', 'None', 'None', 'puppo']\n",
      "854010172552949760 At first I thought this was a shy doggo, but it's actually a Rare Canadian Floofer Owl. Amateurs would confuse the two. 11/10 only send dogs https://t.co/TXdT3tmuYk ['doggo', 'floofer', 'None', 'None']\n",
      "817777686764523521 This is Dido. She's playing the lead role in \"Pupper Stops to Catch Snow Before Resuming Shadow Box with Dried Apple.\" 13/10 (IG: didodoggo) https://t.co/m7isZrOBX7 ['doggo', 'None', 'pupper', 'None']\n",
      "808106460588765185 Here we have Burke (pupper) and Dexter (doggo). Pupper wants to be exactly like doggo. Both 12/10 would pet at same time https://t.co/ANBpEYHaho ['doggo', 'None', 'pupper', 'None']\n",
      "802265048156610565 Like doggo, like pupper version 2. Both 11/10 https://t.co/9IxWAXFqze ['doggo', 'None', 'pupper', 'None']\n",
      "801115127852503040 This is Bones. He's being haunted by another doggo of roughly the same size. 12/10 deep breaths pupper everything's fine https://t.co/55Dqe0SJNj ['doggo', 'None', 'pupper', 'None']\n",
      "785639753186217984 This is Pinot. He's a sophisticated doggo. You can tell by the hat. Also pointier than your average pupper. Still 10/10 would pet cautiously https://t.co/f2wmLZTPHd ['doggo', 'None', 'pupper', 'None']\n",
      "781308096455073793 Pupper butt 1, Doggo 0. Both 12/10 https://t.co/WQvcPEpH2u ['doggo', 'None', 'pupper', 'None']\n",
      "775898661951791106 RT @dog_rates: Like father (doggo), like son (pupper). Both 12/10 https://t.co/pG2inLaOda ['doggo', 'None', 'pupper', 'None']\n",
      "770093767776997377 RT @dog_rates: This is just downright precious af. 12/10 for both pupper and doggo https://t.co/o5J479bZUC ['doggo', 'None', 'pupper', 'None']\n",
      "759793422261743616 Meet Maggie &amp; Lila. Maggie is the doggo, Lila is the pupper. They are sisters. Both 12/10 would pet at the same time https://t.co/MYwR4DQKll ['doggo', 'None', 'pupper', 'None']\n",
      "751583847268179968 Please stop sending it pictures that don't even have a doggo or pupper in them. Churlish af. 5/10 neat couch tho https://t.co/u2c9c7qSg8 ['doggo', 'None', 'pupper', 'None']\n",
      "741067306818797568 This is just downright precious af. 12/10 for both pupper and doggo https://t.co/o5J479bZUC ['doggo', 'None', 'pupper', 'None']\n",
      "733109485275860992 Like father (doggo), like son (pupper). Both 12/10 https://t.co/pG2inLaOda ['doggo', 'None', 'pupper', 'None']\n",
      "775898661951791106 RT @dog_rates: Like father (doggo), like son (pupper). Both 12/10 https://t.co/pG2inLaOda ['doggo', 'None', 'pupper', 'None']\n",
      "770093767776997377 RT @dog_rates: This is just downright precious af. 12/10 for both pupper and doggo https://t.co/o5J479bZUC ['doggo', 'None', 'pupper', 'None']\n"
     ]
    }
   ],
   "source": [
    "for index, tweet in tweets_master.iterrows():\n",
    "    count = 0\n",
    "    if tweet.doggo != 'None':\n",
    "        count += 1\n",
    "    if tweet.floofer != 'None':\n",
    "        count += 1\n",
    "    if tweet.pupper != 'None':\n",
    "        count += 1\n",
    "    if tweet.puppo != 'None':\n",
    "        count += 1\n",
    "    if count > 1:\n",
    "        with pd.option_context('max_colwidth', 150):\n",
    "            print(index, tweet.text, [tweet.doggo, tweet.floofer, tweet.pupper, tweet.puppo])\n",
    "\n",
    "doggo_to_none = ['855851453814013952', '854010172552949760', '817777686764523521', '808106460588765185',\n",
    "                 '801115127852503040', '781308096455073793', '751583847268179968', '741067306818797568']\n",
    "\n",
    "for tweet in doggo_to_none:\n",
    "    tweets_master.at[tweet, 'doggo'] = 'None'\n",
    "    \n",
    "pupper_to_none = ['802265048156610565', '785639753186217984', '759793422261743616', '751583847268179968', '733109485275860992'] \n",
    "\n",
    "for tweet in pupper_to_none:\n",
    "    tweets_master.at[tweet, 'pupper'] = 'None'\n",
    "\n",
    "#### Test\n",
    "\n",
    "for index, tweet in tweets_master.iterrows():\n",
    "    count = 0\n",
    "    if tweet.doggo != 'None':\n",
    "        count += 1\n",
    "    if tweet.floofer != 'None':\n",
    "        count += 1\n",
    "    if tweet.pupper != 'None':\n",
    "        count += 1\n",
    "    if tweet.puppo != 'None':\n",
    "        count += 1\n",
    "    if count > 1:\n",
    "        with pd.option_context('max_colwidth', 150):\n",
    "            print(index, tweet.text, [tweet.doggo, tweet.floofer, tweet.pupper, tweet.puppo])"
   ]
  },
  {
   "cell_type": "code",
   "execution_count": 37,
   "metadata": {},
   "outputs": [],
   "source": [
    "doggo_to_none = ['855851453814013952', '854010172552949760', '817777686764523521', '808106460588765185',\n",
    "                 '801115127852503040', '781308096455073793', '751583847268179968', '741067306818797568', '770093767776997377']\n",
    "\n",
    "for tweet in doggo_to_none:\n",
    "    tweets_master.at[tweet, 'doggo'] = 'None'\n",
    "    \n",
    "pupper_to_none = ['802265048156610565', '785639753186217984', '759793422261743616', '751583847268179968',\n",
    "                  '733109485275860992', '775898661951791106'] \n",
    "\n",
    "for tweet in pupper_to_none:\n",
    "    tweets_master.at[tweet, 'pupper'] = 'None'"
   ]
  },
  {
   "cell_type": "markdown",
   "metadata": {},
   "source": [
    "#### Test"
   ]
  },
  {
   "cell_type": "code",
   "execution_count": 38,
   "metadata": {},
   "outputs": [],
   "source": [
    "for index, tweet in tweets_master.iterrows():\n",
    "    count = 0\n",
    "    if tweet.doggo != 'None':\n",
    "        count += 1\n",
    "    if tweet.floofer != 'None':\n",
    "        count += 1\n",
    "    if tweet.pupper != 'None':\n",
    "        count += 1\n",
    "    if tweet.puppo != 'None':\n",
    "        count += 1\n",
    "    if count > 1:\n",
    "        with pd.option_context('max_colwidth', 150):\n",
    "            print(index, tweet.text, [tweet.doggo, tweet.floofer, tweet.pupper, tweet.puppo])"
   ]
  },
  {
   "cell_type": "markdown",
   "metadata": {},
   "source": [
    "<a id='issue_6'></a>\n",
    "### Issue #6:\n",
    "#### Define\n",
    "Missing values in doggo, floofer, pupper and puppo columns are strings 'None' instead of NaN."
   ]
  },
  {
   "cell_type": "markdown",
   "metadata": {},
   "source": [
    "#### Code"
   ]
  },
  {
   "cell_type": "code",
   "execution_count": 39,
   "metadata": {},
   "outputs": [],
   "source": [
    "dog_stages = ['doggo', 'floofer', 'pupper', 'puppo']\n",
    "for stage in dog_stages:\n",
    "    tweets_master[stage].replace('None', np.nan, inplace=True)"
   ]
  },
  {
   "cell_type": "markdown",
   "metadata": {},
   "source": [
    "#### Test"
   ]
  },
  {
   "cell_type": "code",
   "execution_count": 40,
   "metadata": {},
   "outputs": [
    {
     "name": "stdout",
     "output_type": "stream",
     "text": [
      "<class 'pandas.core.frame.DataFrame'>\n",
      "Index: 2356 entries, 892420643555336193 to 666020888022790149\n",
      "Data columns (total 20 columns):\n",
      " #   Column                      Non-Null Count  Dtype  \n",
      "---  ------                      --------------  -----  \n",
      " 0   in_reply_to_status_id       78 non-null     float64\n",
      " 1   in_reply_to_user_id         78 non-null     float64\n",
      " 2   timestamp                   2356 non-null   object \n",
      " 3   source                      2356 non-null   object \n",
      " 4   text                        2356 non-null   object \n",
      " 5   retweeted_status_id         181 non-null    float64\n",
      " 6   retweeted_status_user_id    181 non-null    float64\n",
      " 7   retweeted_status_timestamp  181 non-null    object \n",
      " 8   expanded_urls               2297 non-null   object \n",
      " 9   rating_numerator            2356 non-null   int64  \n",
      " 10  rating_denominator          2356 non-null   int64  \n",
      " 11  name                        2356 non-null   object \n",
      " 12  doggo                       88 non-null     object \n",
      " 13  floofer                     10 non-null     object \n",
      " 14  pupper                      251 non-null    object \n",
      " 15  puppo                       30 non-null     object \n",
      " 16  breed                       1751 non-null   object \n",
      " 17  confidence_level            1751 non-null   float64\n",
      " 18  likes                       2328 non-null   Int64  \n",
      " 19  retweets                    2328 non-null   Int64  \n",
      "dtypes: Int64(2), float64(5), int64(2), object(11)\n",
      "memory usage: 455.7+ KB\n"
     ]
    }
   ],
   "source": [
    "tweets_master.info()"
   ]
  },
  {
   "cell_type": "markdown",
   "metadata": {},
   "source": [
    "<a id='issue_7'></a>\n",
    "### Issue #7:\n",
    "#### Define\n",
    "4 columns (doggo, floofer, pupper, puppo) are categories of dog ‘stage’ and need to be one column ‘stage’ with 4 categories: doggo, floofer, pupper and puppo in it."
   ]
  },
  {
   "cell_type": "markdown",
   "metadata": {},
   "source": [
    "#### Code"
   ]
  },
  {
   "cell_type": "code",
   "execution_count": 41,
   "metadata": {},
   "outputs": [],
   "source": [
    "# Melt the doggo, floofer, pupper and puppo columns to dogs and dogs_stage column\n",
    "tweets_master = pd.melt(tweets_master, id_vars=['in_reply_to_status_id', 'in_reply_to_user_id', 'timestamp', 'source',\n",
    "                                                'text', 'retweeted_status_id', 'retweeted_status_user_id',\n",
    "                                                'retweeted_status_timestamp', 'expanded_urls', 'rating_numerator', \n",
    "                                                'rating_denominator', 'name', 'breed', 'confidence_level', 'likes', 'retweets'], \n",
    "                      var_name='dog', value_name='dog_stage', ignore_index=False)\n",
    "\n",
    "tweets_master = tweets_master.sort_values(by=['dog_stage'])\n",
    "tweets_master = tweets_master[~tweets_master.index.duplicated(keep='first')].drop('dog', 1)"
   ]
  },
  {
   "cell_type": "markdown",
   "metadata": {},
   "source": [
    "#### Test"
   ]
  },
  {
   "cell_type": "code",
   "execution_count": 42,
   "metadata": {},
   "outputs": [
    {
     "name": "stdout",
     "output_type": "stream",
     "text": [
      "<class 'pandas.core.frame.DataFrame'>\n",
      "Index: 2356 entries, 890240255349198849 to 666020888022790149\n",
      "Data columns (total 17 columns):\n",
      " #   Column                      Non-Null Count  Dtype  \n",
      "---  ------                      --------------  -----  \n",
      " 0   in_reply_to_status_id       78 non-null     float64\n",
      " 1   in_reply_to_user_id         78 non-null     float64\n",
      " 2   timestamp                   2356 non-null   object \n",
      " 3   source                      2356 non-null   object \n",
      " 4   text                        2356 non-null   object \n",
      " 5   retweeted_status_id         181 non-null    float64\n",
      " 6   retweeted_status_user_id    181 non-null    float64\n",
      " 7   retweeted_status_timestamp  181 non-null    object \n",
      " 8   expanded_urls               2297 non-null   object \n",
      " 9   rating_numerator            2356 non-null   int64  \n",
      " 10  rating_denominator          2356 non-null   int64  \n",
      " 11  name                        2356 non-null   object \n",
      " 12  breed                       1751 non-null   object \n",
      " 13  confidence_level            1751 non-null   float64\n",
      " 14  likes                       2328 non-null   Int64  \n",
      " 15  retweets                    2328 non-null   Int64  \n",
      " 16  dog_stage                   379 non-null    object \n",
      "dtypes: Int64(2), float64(5), int64(2), object(8)\n",
      "memory usage: 335.9+ KB\n"
     ]
    }
   ],
   "source": [
    "tweets_master.info()"
   ]
  },
  {
   "cell_type": "markdown",
   "metadata": {},
   "source": [
    "<a id='issue_8'></a>\n",
    "### Issue #8:\n",
    "#### Define\n",
    "Drop rows containing information about retweets using 'retweeted_status_id' column by saving only rows where is Nan in this column."
   ]
  },
  {
   "cell_type": "markdown",
   "metadata": {},
   "source": [
    "#### Code"
   ]
  },
  {
   "cell_type": "code",
   "execution_count": 43,
   "metadata": {},
   "outputs": [],
   "source": [
    "tweets_master = tweets_master[tweets_master.retweeted_status_user_id.isnull()]"
   ]
  },
  {
   "cell_type": "markdown",
   "metadata": {},
   "source": [
    "#### Test"
   ]
  },
  {
   "cell_type": "code",
   "execution_count": 44,
   "metadata": {},
   "outputs": [
    {
     "data": {
      "text/plain": [
       "0"
      ]
     },
     "execution_count": 44,
     "metadata": {},
     "output_type": "execute_result"
    }
   ],
   "source": [
    "len(tweets_master[tweets_master.retweeted_status_user_id.isnull() == False])"
   ]
  },
  {
   "cell_type": "markdown",
   "metadata": {},
   "source": [
    "<a id='issue_9'></a>\n",
    "### Issue #9:\n",
    "#### Define\n",
    "Redundand columns 'in_reply_to_status_id', 'in_reply_to_user_id', 'source', 'retweeted_status_id', 'retweeted_status_user_id', 'retweeted_status_timestamp', 'expanded_urls' in tweets table."
   ]
  },
  {
   "cell_type": "markdown",
   "metadata": {},
   "source": [
    "#### Code"
   ]
  },
  {
   "cell_type": "code",
   "execution_count": 45,
   "metadata": {},
   "outputs": [],
   "source": [
    "tweets_master = tweets_master.drop(['in_reply_to_status_id', 'in_reply_to_user_id', 'source', 'retweeted_status_id',\n",
    "                                    'retweeted_status_user_id', 'retweeted_status_timestamp', 'expanded_urls'], 1)"
   ]
  },
  {
   "cell_type": "markdown",
   "metadata": {},
   "source": [
    "#### Test"
   ]
  },
  {
   "cell_type": "code",
   "execution_count": 46,
   "metadata": {},
   "outputs": [
    {
     "name": "stdout",
     "output_type": "stream",
     "text": [
      "<class 'pandas.core.frame.DataFrame'>\n",
      "Index: 2175 entries, 890240255349198849 to 666020888022790149\n",
      "Data columns (total 10 columns):\n",
      " #   Column              Non-Null Count  Dtype  \n",
      "---  ------              --------------  -----  \n",
      " 0   timestamp           2175 non-null   object \n",
      " 1   text                2175 non-null   object \n",
      " 2   rating_numerator    2175 non-null   int64  \n",
      " 3   rating_denominator  2175 non-null   int64  \n",
      " 4   name                2175 non-null   object \n",
      " 5   breed               1686 non-null   object \n",
      " 6   confidence_level    1686 non-null   float64\n",
      " 7   likes               2167 non-null   Int64  \n",
      " 8   retweets            2167 non-null   Int64  \n",
      " 9   dog_stage           343 non-null    object \n",
      "dtypes: Int64(2), float64(1), int64(2), object(5)\n",
      "memory usage: 191.2+ KB\n"
     ]
    }
   ],
   "source": [
    "tweets_master.info()"
   ]
  },
  {
   "cell_type": "markdown",
   "metadata": {},
   "source": [
    "<a id='issue_10'></a>\n",
    "### Issue #10:\n",
    "#### Define\n",
    "Wrong data type of ‘timestamp’ (object instead of timestamp) column."
   ]
  },
  {
   "cell_type": "markdown",
   "metadata": {},
   "source": [
    "#### Code"
   ]
  },
  {
   "cell_type": "code",
   "execution_count": 47,
   "metadata": {},
   "outputs": [],
   "source": [
    "tweets_master['timestamp'] = pd.to_datetime(tweets_master['timestamp'])"
   ]
  },
  {
   "cell_type": "markdown",
   "metadata": {},
   "source": [
    "#### Test"
   ]
  },
  {
   "cell_type": "code",
   "execution_count": 48,
   "metadata": {},
   "outputs": [
    {
     "data": {
      "text/plain": [
       "timestamp             datetime64[ns, UTC]\n",
       "text                               object\n",
       "rating_numerator                    int64\n",
       "rating_denominator                  int64\n",
       "name                               object\n",
       "breed                              object\n",
       "confidence_level                  float64\n",
       "likes                               Int64\n",
       "retweets                            Int64\n",
       "dog_stage                          object\n",
       "dtype: object"
      ]
     },
     "execution_count": 48,
     "metadata": {},
     "output_type": "execute_result"
    }
   ],
   "source": [
    "tweets_master.dtypes"
   ]
  },
  {
   "cell_type": "markdown",
   "metadata": {},
   "source": [
    "<a id='issue_11'></a>\n",
    "### Issue #11:\n",
    "#### Define\n",
    "Inconsistencies in 'rating_denominator' column need to be investigated and fixed if possible. Issues might have happened during text parsing and thou I'll display text to check it."
   ]
  },
  {
   "cell_type": "markdown",
   "metadata": {},
   "source": [
    "#### Code"
   ]
  },
  {
   "cell_type": "code",
   "execution_count": 49,
   "metadata": {},
   "outputs": [
    {
     "name": "stdout",
     "output_type": "stream",
     "text": [
      "835246439529840640 @jonnysun @Lin_Manuel ok jomny I know you're excited but 960/00 isn't a valid rating, 13/10 is tho 0\n",
      "832088576586297345 @docmisterio account started on 11/15/15 15\n",
      "820690176645140481 The floofs have been released I repeat the floofs have been released. 84/70 https://t.co/NIYC820tmd 70\n",
      "810984652412424192 Meet Sam. She smiles 24/7 &amp; secretly aspires to be a reindeer. \n",
      "Keep Sam smiling by clicking and sharing this link:\n",
      "https://t.co/98tB8y7y7t https://t.co/LouL5vdvxx 7\n",
      "758467244762497024 Why does this never happen at my front door... 165/150 https://t.co/HmwrdfEfUE 150\n",
      "740373189193256964 After so many requests, this is Bretagne. She was the last surviving 9/11 search dog, and our second ever 14/10. RIP https://t.co/XAVDNDaVgQ 11\n",
      "731156023742988288 Say hello to this unbelievably well behaved squad of doggos. 204/170 would try to pet all at once https://t.co/yGQI3He3xv 170\n",
      "722974582966214656 Happy 4/20 from the squad! 13/10 for all https://t.co/eV1diwds8a 20\n",
      "716439118184652801 This is Bluebert. He just saw that both #FinalFur match ups are split 50/50. Amazed af. 11/10 https://t.co/Kky1DPG4iq 50\n",
      "713900603437621249 Happy Saturday here's 9 puppers on a bench. 99/90 good work everybody https://t.co/mpvaVxKmc1 90\n",
      "710658690886586372 Here's a brigade of puppers. All look very prepared for whatever happens next. 80/80 https://t.co/0eb7R1Om12 80\n",
      "709198395643068416 From left to right:\n",
      "Cletus, Jerome, Alejandro, Burp, &amp; Titson\n",
      "None know where camera is. 45/50 would hug all at once https://t.co/sedre1ivTK 50\n",
      "704054845121142784 Here is a whole flock of puppers.  60/50 I'll take the lot https://t.co/9dpcw6MdWa 50\n",
      "697463031882764288 Happy Wednesday here's a bucket of pups. 44/40 would pet all at once https://t.co/HppvrYuamZ 40\n",
      "686035780142297088 Yes I do realize a rating of 4/20 would've been fitting. However, it would be unjust to give these cooperative pups that low of a rating 20\n",
      "684225744407494656 Two sneaky puppers were not initially seen, moving the rating to 143/130. Please forgive us. Thank you https://t.co/kRK51Y5ac3 130\n",
      "684222868335505415 Someone help the girl is being mugged. Several are distracting her while two steal her shoes. Clever puppers 121/110 https://t.co/1zfnTJLt55 110\n",
      "682962037429899265 This is Darrel. He just robbed a 7/11 and is in a high speed police chase. Was just spotted by the helicopter 10/10 https://t.co/7EsP8LmSp5 11\n",
      "682808988178739200 I'm aware that I could've said 20/16, but here at WeRateDogs we are very professional. An inconsistent rating scale is simply irresponsible 16\n",
      "677716515794329600 IT'S PUPPERGEDDON. Total of 144/120 ...I think https://t.co/ZanVtAtvIq 120\n",
      "675853064436391936 Here we have an entire platoon of puppers. Total score: 88/80 would pet all at once https://t.co/y93p6FLvVw 80\n",
      "666287406224695296 This is an Albanian 3 1/2 legged  Episcopalian. Loves well-polished hardwood flooring. Penis on the collar. 9/10 https://t.co/d9NcXFKwLv 2\n"
     ]
    }
   ],
   "source": [
    "# display text for all tweet where denominator is not 10\n",
    "for index, tweet in tweets_master.iterrows():\n",
    "    if tweet.rating_denominator != 10:\n",
    "        with pd.option_context('max_colwidth', 150):\n",
    "            print(index, tweet.text, tweet.rating_denominator)"
   ]
  },
  {
   "cell_type": "code",
   "execution_count": 50,
   "metadata": {},
   "outputs": [],
   "source": [
    "# list of tweet ids to drop\n",
    "to_drop = ['835246439529840640', '832088576586297345', '686035780142297088', '684225744407494656']\n",
    "tweets_master = tweets_master.drop(to_drop)\n",
    "\n",
    "# list of tweet ids to change denominator to 10\n",
    "to_10 = ['820690176645140481', '758467244762497024', '740373189193256964', '731156023742988288', '722974582966214656', \n",
    "         '716439118184652801', '713900603437621249', '710658690886586372', '709198395643068416', '704054845121142784',\n",
    "         '697463031882764288', '684222868335505415', '682962037429899265', '677716515794329600', '675853064436391936', '666287406224695296']\n",
    "for tweet in to_10:\n",
    "    tweets_master.at[tweet, 'rating_denominator'] = int(10)\n",
    "\n",
    "# list tweet ids to change to NaN\n",
    "tweets_master.at['810984652412424192', 'rating_denominator'] = None\n",
    "tweets_master.at['682808988178739200', 'rating_denominator'] = None"
   ]
  },
  {
   "cell_type": "markdown",
   "metadata": {},
   "source": [
    "#### Test"
   ]
  },
  {
   "cell_type": "code",
   "execution_count": 51,
   "metadata": {},
   "outputs": [
    {
     "data": {
      "text/plain": [
       "10.0    2169\n",
       "Name: rating_denominator, dtype: int64"
      ]
     },
     "execution_count": 51,
     "metadata": {},
     "output_type": "execute_result"
    }
   ],
   "source": [
    "tweets_master.rating_denominator.value_counts()"
   ]
  },
  {
   "cell_type": "markdown",
   "metadata": {},
   "source": [
    "<a id='issue_12'></a>\n",
    "### Issue #12:\n",
    "#### Define\n",
    "There are inconsistencies in 'rating_numerator' column (numerator is greater than denominator, too great values). 'Numerator is greater than denominator' is mainly feature of WeRateDogs account, but partly might be an issues durind text parsing."
   ]
  },
  {
   "cell_type": "code",
   "execution_count": 52,
   "metadata": {},
   "outputs": [],
   "source": [
    "# correct numerators in tweets investigated in issue #11\n",
    "\n",
    "nto_9 = ['709198395643068416', '666287406224695296']\n",
    "for tweet in nto_9:\n",
    "    tweets_master.at[tweet, 'rating_numerator'] = 9\n",
    "    \n",
    "nto_10 = ['710658690886586372', '682962037429899265']\n",
    "for tweet in nto_10:\n",
    "    tweets_master.at[tweet, 'rating_numerator'] = 10\n",
    "    \n",
    "nto_11 = ['758467244762497024', '716439118184652801', '713900603437621249', '697463031882764288', '684222868335505415', '675853064436391936']\n",
    "for tweet in nto_11:\n",
    "    tweets_master.at[tweet, 'rating_numerator'] = 11\n",
    "    \n",
    "nto_12 = ['820690176645140481', '731156023742988288', '704054845121142784', '677716515794329600']\n",
    "for tweet in nto_12:\n",
    "    tweets_master.at[tweet, 'rating_numerator'] = 12\n",
    "    \n",
    "tweets_master.at['722974582966214656', 'rating_numerator'] = 13\n",
    "tweets_master.at['740373189193256964', 'rating_numerator'] = 14\n",
    "\n",
    "nto_nan = ['810984652412424192', '682808988178739200']\n",
    "for tweet in nto_nan:\n",
    "    tweets_master.at[tweet, 'rating_numerator'] = None"
   ]
  },
  {
   "cell_type": "code",
   "execution_count": 53,
   "metadata": {},
   "outputs": [
    {
     "data": {
      "text/plain": [
       "12.0      504\n",
       "10.0      444\n",
       "11.0      431\n",
       "13.0      308\n",
       "9.0       157\n",
       "8.0        98\n",
       "7.0        53\n",
       "14.0       44\n",
       "5.0        36\n",
       "6.0        32\n",
       "3.0        19\n",
       "4.0        15\n",
       "2.0         9\n",
       "1.0         7\n",
       "420.0       2\n",
       "0.0         2\n",
       "15.0        1\n",
       "1776.0      1\n",
       "17.0        1\n",
       "26.0        1\n",
       "27.0        1\n",
       "182.0       1\n",
       "75.0        1\n",
       "666.0       1\n",
       "Name: rating_numerator, dtype: int64"
      ]
     },
     "execution_count": 53,
     "metadata": {},
     "output_type": "execute_result"
    }
   ],
   "source": [
    "tweets_master.rating_numerator.value_counts()"
   ]
  },
  {
   "cell_type": "code",
   "execution_count": 54,
   "metadata": {},
   "outputs": [
    {
     "data": {
      "text/plain": [
       "tweet_id\n",
       "684880619965411328    Here we have a basking dino pupper. Looks powe...\n",
       "883482846933004288    This is Bella. She hopes her smile made you sm...\n",
       "781661882474196992    Who keeps sending in pictures without dogs in ...\n",
       "751583847268179968    Please stop sending it pictures that don't eve...\n",
       "699691744225525762    This is Dave. He's a tropical pup. Short lil l...\n",
       "694925794720792577    Please only send in dogs. This t-rex is very s...\n",
       "691483041324204033    When bae says they can't go out but you see th...\n",
       "687102708889812993    Army of water dogs here. None of them know whe...\n",
       "684969860808454144    For those who claim this is a goat, u are wron...\n",
       "684959798585110529    This is Jerry. He's a neat dog. No legs (tragi...\n",
       "683849932751646720    This is Jiminy. He's not the brightest dog. Ne...\n",
       "682003177596559360    Unique dog here. Wrinkly as hell. Weird segmen...\n",
       "681340665377193984    I've been told there's a slight possibility he...\n",
       "679877062409191424    Meet Penelope. She's a bacon frise. Total babe...\n",
       "677301033169788928    This is Juckson. He's totally on his way to a ...\n",
       "676897532954456065    Exotic handheld dog here. Appears unathletic. ...\n",
       "676588346097852417    This is Bubbles. He kinda resembles a fish. Al...\n",
       "675483430902214656    Rare shielded battle dog here. Very happy abou...\n",
       "675135153782571009    This is Steven. He got locked outside. Damn it...\n",
       "674646392044941312    Two gorgeous dogs here. Little waddling dog is...\n",
       "674632714662858753    Rare submerged pup here. Holds breath for a lo...\n",
       "674063288070742018    This is Earl. Earl is lost. Someone help Earl....\n",
       "672980819271634944    Extraordinary dog here. Looks large. Just a he...\n",
       "672231046314901505    Exotic underwater dog here. Very shy. Wont ret...\n",
       "671879137494245376    This is Brad. He's a chubby lil pup. Doesn't r...\n",
       "671159727754231808    This is Anthony. He just finished up his maste...\n",
       "670782429121134593    This dude slaps your girl's ass what do you do...\n",
       "670449342516494336    Vibrant dog here. Fabulous tail. Only 2 legs t...\n",
       "670069087419133954    This is Randall. He's from Chernobyl. Built pl...\n",
       "670037189829525505    Awesome dog here. Not sure where it is tho. Sp...\n",
       "669661792646373376    This is a brave dog. Excellent free climber. T...\n",
       "668994913074286592    Two gorgeous pups here. Both have cute fake ho...\n",
       "668631377374486528    Meet Zeek. He is a grey Cumulonimbus. Zeek is ...\n",
       "667911425562669056    Wow. Armored dog here. Ready for battle. Face ...\n",
       "666776908487630848    This is Josep. He is a Rye Manganese mix. Can ...\n",
       "666049248165822465    Here we have a 1949 1st generation vulpix. Enj...\n",
       "Name: text, dtype: object"
      ]
     },
     "execution_count": 54,
     "metadata": {},
     "output_type": "execute_result"
    }
   ],
   "source": [
    "# display tweets with 5 in numerator column\n",
    "tweets_master.loc[tweets_master.rating_numerator == 5].text"
   ]
  },
  {
   "cell_type": "code",
   "execution_count": 55,
   "metadata": {},
   "outputs": [
    {
     "data": {
      "text/plain": [
       "'This is Bella. She hopes her smile made you smile. If not, she is also offering you her favorite monkey. 13.5/10 https://t.co/qjrljjt948'"
      ]
     },
     "execution_count": 55,
     "metadata": {},
     "output_type": "execute_result"
    }
   ],
   "source": [
    "# check one of them\n",
    "tweets_master.loc['883482846933004288'].text"
   ]
  },
  {
   "cell_type": "code",
   "execution_count": 56,
   "metadata": {},
   "outputs": [
    {
     "name": "stderr",
     "output_type": "stream",
     "text": [
      "/Users/izumita/opt/anaconda3/lib/python3.8/site-packages/pandas/core/strings/accessor.py:101: UserWarning: This pattern has match groups. To actually get the groups, use str.extract.\n",
      "  return func(self, *args, **kwargs)\n"
     ]
    },
    {
     "data": {
      "text/html": [
       "<div>\n",
       "<style scoped>\n",
       "    .dataframe tbody tr th:only-of-type {\n",
       "        vertical-align: middle;\n",
       "    }\n",
       "\n",
       "    .dataframe tbody tr th {\n",
       "        vertical-align: top;\n",
       "    }\n",
       "\n",
       "    .dataframe thead th {\n",
       "        text-align: right;\n",
       "    }\n",
       "</style>\n",
       "<table border=\"1\" class=\"dataframe\">\n",
       "  <thead>\n",
       "    <tr style=\"text-align: right;\">\n",
       "      <th></th>\n",
       "      <th>text</th>\n",
       "      <th>rating_numerator</th>\n",
       "    </tr>\n",
       "    <tr>\n",
       "      <th>tweet_id</th>\n",
       "      <th></th>\n",
       "      <th></th>\n",
       "    </tr>\n",
       "  </thead>\n",
       "  <tbody>\n",
       "    <tr>\n",
       "      <th>778027034220126208</th>\n",
       "      <td>This is Sophie. She's a Jubilant Bush Pupper. Super h*ckin rare. Appears at random just to smile at the locals. 11.27/10 would smile back https://...</td>\n",
       "      <td>27.0</td>\n",
       "    </tr>\n",
       "    <tr>\n",
       "      <th>883482846933004288</th>\n",
       "      <td>This is Bella. She hopes her smile made you smile. If not, she is also offering you her favorite monkey. 13.5/10 https://t.co/qjrljjt948</td>\n",
       "      <td>5.0</td>\n",
       "    </tr>\n",
       "    <tr>\n",
       "      <th>786709082849828864</th>\n",
       "      <td>This is Logan, the Chow who lived. He solemnly swears he's up to lots of good. H*ckin magical af 9.75/10 https://t.co/yBO5wuqaPS</td>\n",
       "      <td>75.0</td>\n",
       "    </tr>\n",
       "    <tr>\n",
       "      <th>681340665377193984</th>\n",
       "      <td>I've been told there's a slight possibility he's checking his mirror. We'll bump to 9.5/10. Still a menace</td>\n",
       "      <td>5.0</td>\n",
       "    </tr>\n",
       "    <tr>\n",
       "      <th>680494726643068929</th>\n",
       "      <td>Here we have uncovered an entire battalion of holiday puppers. Average of 11.26/10 https://t.co/eNm2S6p9BD</td>\n",
       "      <td>26.0</td>\n",
       "    </tr>\n",
       "  </tbody>\n",
       "</table>\n",
       "</div>"
      ],
      "text/plain": [
       "                                                                                                                                                                     text  \\\n",
       "tweet_id                                                                                                                                                                    \n",
       "778027034220126208  This is Sophie. She's a Jubilant Bush Pupper. Super h*ckin rare. Appears at random just to smile at the locals. 11.27/10 would smile back https://...   \n",
       "883482846933004288               This is Bella. She hopes her smile made you smile. If not, she is also offering you her favorite monkey. 13.5/10 https://t.co/qjrljjt948   \n",
       "786709082849828864                       This is Logan, the Chow who lived. He solemnly swears he's up to lots of good. H*ckin magical af 9.75/10 https://t.co/yBO5wuqaPS   \n",
       "681340665377193984                                             I've been told there's a slight possibility he's checking his mirror. We'll bump to 9.5/10. Still a menace   \n",
       "680494726643068929                                             Here we have uncovered an entire battalion of holiday puppers. Average of 11.26/10 https://t.co/eNm2S6p9BD   \n",
       "\n",
       "                    rating_numerator  \n",
       "tweet_id                              \n",
       "778027034220126208              27.0  \n",
       "883482846933004288               5.0  \n",
       "786709082849828864              75.0  \n",
       "681340665377193984               5.0  \n",
       "680494726643068929              26.0  "
      ]
     },
     "metadata": {},
     "output_type": "display_data"
    }
   ],
   "source": [
    "# part of the issue are unexpected floats so I need to find and fix them manualy\n",
    "\n",
    "with pd.option_context('max_colwidth', 150):\n",
    "    display(tweets_master[tweets_master.text.str.contains(r\"(\\d+\\.\\d*\\/\\d+)\").fillna(False)]\n",
    "            [['text', 'rating_numerator']])"
   ]
  },
  {
   "cell_type": "code",
   "execution_count": 57,
   "metadata": {},
   "outputs": [],
   "source": [
    "# change data type in rating_numerator column from integer to float to be able to add correct values\n",
    "tweets_master['rating_numerator'] = tweets_master['rating_numerator'].astype(float)\n",
    "\n",
    "# correct values for 5 tweets displayed above\n",
    "tweets_master.at['883482846933004288', 'rating_numerator'] = 13.5\n",
    "tweets_master.at['786709082849828864', 'rating_numerator'] = 9.75\n",
    "tweets_master.at['778027034220126208', 'rating_numerator'] = 11.27\n",
    "tweets_master.at['681340665377193984', 'rating_numerator'] = 9.5\n",
    "tweets_master.at['680494726643068929', 'rating_numerator'] = 11.26"
   ]
  },
  {
   "cell_type": "code",
   "execution_count": 58,
   "metadata": {
    "scrolled": true
   },
   "outputs": [
    {
     "name": "stdout",
     "output_type": "stream",
     "text": [
      "881633300179243008 @roushfenway These are good dogs but 17/10 is an emotional impulse rating. More like 13/10s 17.0\n",
      "855862651834028034 @dhmontgomery We also gave snoop dogg a 420/10 but I think that predated your research 420.0\n",
      "855860136149123072 @s8n You tried very hard to portray this good boy as not so good, but you have ultimately failed. His goodness shines through. 666/10 666.0\n",
      "838150277551247360 @markhoppus 182/10 182.0\n",
      "838085839343206401 @bragg6of8 @Andy_Pace_ we are still looking for the first 15/10 15.0\n",
      "835152434251116546 When you're so blinded by your systematic plagiarism that you forget what day it is. 0/10 https://t.co/YbEJPkg4Ag 0.0\n",
      "749981277374128128 This is Atticus. He's quite simply America af. 1776/10 https://t.co/GRXwMxLBkh 1776.0\n",
      "746906459439529985 PUPDATE: can't see any. Even if I could, I couldn't reach them to pet. 0/10 much disappointment https://t.co/c7WXaB2nqX 0.0\n",
      "696490539101908992 After reading the comments I may have overestimated this pup. Downgraded to a 1/10. Please forgive me 1.0\n",
      "678675843183484930 Exotic pup here. Tail long af. Throat looks swollen. Might breathe fire. Exceptionally unfluffy 2/10 would still pet https://t.co/a8SqCaSo2r 2.0\n",
      "678424312106393600 This is Crystal. She's a shitty fireman. No sense of urgency. People could be dying Crystal. 2/10 just irresponsible https://t.co/rtMtjSl9pz 2.0\n",
      "675153376133427200 What kind of person sends in a picture without a dog in it? 1/10 just because that's a nice table https://t.co/RDXCfk8hK0 1.0\n",
      "674265582246694913 This is Henry. He's a shit dog. Short pointy ears. Leaves trail of pee. Not fluffy. Doesn't come when called. 2/10 https://t.co/Pu9RhfHDEQ 2.0\n",
      "673716320723169284 The millennials have spoken and we've decided to immediately demote to a 1/10. Thank you 1.0\n",
      "671550332464455680 After 22 minutes of careful deliberation this dog is being demoted to a 1/10. The longer you look at him the more terrifying he becomes 1.0\n",
      "670842764863651840 After so many requests... here you go.\n",
      "\n",
      "Good dogg. 420/10 https://t.co/yfAAo1gdeY 420.0\n",
      "670826280409919488 Scary dog here. Too many legs. Extra tail. Not soft, let alone fluffy. Won't bark. Moves sideways. Has weapon. 2/10 https://t.co/XOPXCSXiUT 2.0\n",
      "670783437142401025 Flamboyant pup here. Probably poisonous. Won't eat kibble. Doesn't bark. Slow af. Petting doesn't look fun. 1/10 https://t.co/jxukeh2BeO 1.0\n",
      "668142349051129856 This lil pup is Oliver. Hops around. Has wings but doesn't fly (lame). Annoying chirp. Won't catch tennis balls 2/10 https://t.co/DnhUw0aBM2 2.0\n",
      "667878741721415682 This is Tedrick. He lives on the edge. Needs someone to hit the gas tho. Other than that he's a baller. 10&amp;2/10 https://t.co/LvP1TTYSCN 2.0\n",
      "667549055577362432 Never seen dog like this. Breathes heavy. Tilts head in a pattern. No bark. Shitty at fetch. Not even cordless. 1/10 https://t.co/i9iSGNn3fx 1.0\n",
      "666786068205871104 Unfamiliar with this breed. Ears pointy af. Won't let go of seashell. Won't eat kibble. Not very fast. Bad dog 2/10 https://t.co/EIn5kElY1S 2.0\n",
      "666411507551481857 This is quite the dog. Gets really excited when not in water. Not very soft tho. Bad at fetch. Can't do tricks. 2/10 https://t.co/aMCTNWO94t 2.0\n",
      "666104133288665088 Not familiar with this breed. No tail (weird). Only 2 legs. Doesn't bark. Surprisingly quick. Shits eggs. 1/10 https://t.co/Asgdc6kuLX 1.0\n",
      "666051853826850816 This is an odd dog. Hard on the outside but loving on the inside. Petting still fun. Doesn't play catch well. 2/10 https://t.co/v5A4vzSDdc 2.0\n"
     ]
    }
   ],
   "source": [
    "# check out the text of some outlyers in rating_numerator column\n",
    "numerators = [0, 1, 2, 15, 17, 20, 24, 182, 420, 666, 1776]\n",
    "\n",
    "for index, tweet in tweets_master.iterrows():\n",
    "    if tweet.rating_numerator in numerators:\n",
    "        with pd.option_context('max_colwidth', 150):\n",
    "            print(index, tweet.text, tweet.rating_numerator)"
   ]
  },
  {
   "cell_type": "code",
   "execution_count": 59,
   "metadata": {},
   "outputs": [],
   "source": [
    "# After deep look into tweets above there have been found out that some tweets contain no dogs, \n",
    "# other are replies with corrections and some ratings are ment by the author. \n",
    "\n",
    "# Therefor 'not a dog' tweets and replyes to tweets that are not presented in our dataset will be droped \n",
    "# '696490539101908992' is downgrade for '696488710901260288', will change numerator to 1 and then drop '696490539101908992'\n",
    "\n",
    "#the author ment it, will keep: '855860136149123072', '749981277374128128', '678424312106393600', '675153376133427200'\n",
    "\n",
    "tweets_master.at['696488710901260288', 'rating_numerator'] = 1\n",
    "\n",
    "tweets_master.at['810984652412424192', 'rating_numerator'] = None\n",
    "\n",
    "rows_to_drop = ['671550332464455680', '838150277551247360', '696490539101908992', '673716320723169284', \n",
    "                '855862651834028034', '670842764863651840', '835152434251116546', '678675843183484930', \n",
    "                '674265582246694913', '670826280409919488', '670783437142401025', '668142349051129856',\n",
    "                '667549055577362432', '666786068205871104', '666411507551481857','666104133288665088', \n",
    "                '746906459439529985', '666051853826850816','881633300179243008', '838085839343206401', \n",
    "                '682808988178739200', '682788441537560576', '667878741721415682']\n",
    "tweets_master = tweets_master.drop(rows_to_drop)"
   ]
  },
  {
   "cell_type": "markdown",
   "metadata": {},
   "source": [
    "#### Test"
   ]
  },
  {
   "cell_type": "code",
   "execution_count": 60,
   "metadata": {},
   "outputs": [
    {
     "data": {
      "text/plain": [
       "1.00         2\n",
       "2.00         1\n",
       "3.00        19\n",
       "4.00        15\n",
       "5.00        34\n",
       "6.00        32\n",
       "7.00        53\n",
       "8.00        98\n",
       "9.00       157\n",
       "9.50         1\n",
       "9.75         1\n",
       "10.00      444\n",
       "11.00      431\n",
       "11.26        1\n",
       "11.27        1\n",
       "12.00      502\n",
       "13.00      308\n",
       "13.50        1\n",
       "14.00       44\n",
       "666.00       1\n",
       "1776.00      1\n",
       "Name: rating_numerator, dtype: int64"
      ]
     },
     "execution_count": 60,
     "metadata": {},
     "output_type": "execute_result"
    }
   ],
   "source": [
    "tweets_master.rating_numerator.value_counts().sort_index()"
   ]
  },
  {
   "cell_type": "markdown",
   "metadata": {},
   "source": [
    "<a id='issue_13'></a>\n",
    "### Issue #13:\n",
    "#### Define\n",
    "Upper and lower case breed names."
   ]
  },
  {
   "cell_type": "markdown",
   "metadata": {},
   "source": [
    "#### Code"
   ]
  },
  {
   "cell_type": "code",
   "execution_count": 61,
   "metadata": {},
   "outputs": [
    {
     "data": {
      "text/plain": [
       "Afghan_hound                       3\n",
       "Airedale                          12\n",
       "American_Staffordshire_terrier    15\n",
       "Appenzeller                        2\n",
       "Australian_terrier                 2\n",
       "                                  ..\n",
       "toy_poodle                        51\n",
       "toy_terrier                        3\n",
       "vizsla                            13\n",
       "whippet                           11\n",
       "wire-haired_fox_terrier            2\n",
       "Name: breed, Length: 113, dtype: int64"
      ]
     },
     "execution_count": 61,
     "metadata": {},
     "output_type": "execute_result"
    }
   ],
   "source": [
    "tweets_master.breed.value_counts().sort_index()"
   ]
  },
  {
   "cell_type": "code",
   "execution_count": 62,
   "metadata": {},
   "outputs": [],
   "source": [
    "tweets_master['breed'] = tweets_master['breed'].str.lower()"
   ]
  },
  {
   "cell_type": "markdown",
   "metadata": {},
   "source": [
    "#### Test"
   ]
  },
  {
   "cell_type": "code",
   "execution_count": 63,
   "metadata": {},
   "outputs": [
    {
     "data": {
      "text/plain": [
       "afghan_hound                       3\n",
       "airedale                          12\n",
       "american_staffordshire_terrier    15\n",
       "appenzeller                        2\n",
       "australian_terrier                 2\n",
       "                                  ..\n",
       "welsh_springer_spaniel             4\n",
       "west_highland_white_terrier       16\n",
       "whippet                           11\n",
       "wire-haired_fox_terrier            2\n",
       "yorkshire_terrier                 10\n",
       "Name: breed, Length: 113, dtype: int64"
      ]
     },
     "execution_count": 63,
     "metadata": {},
     "output_type": "execute_result"
    }
   ],
   "source": [
    "tweets_master.breed.value_counts().sort_index()"
   ]
  },
  {
   "cell_type": "markdown",
   "metadata": {},
   "source": [
    "## Storing Data\n",
    "Save gathered, assessed, and cleaned master dataset to a CSV file named \"twitter_archive_master.csv\"."
   ]
  },
  {
   "cell_type": "code",
   "execution_count": 64,
   "metadata": {},
   "outputs": [],
   "source": [
    "# Save cleaned data (tweets_master table) in a CSV file\n",
    "tweets_master.to_csv('twitter_archive_master.csv')"
   ]
  },
  {
   "cell_type": "code",
   "execution_count": 65,
   "metadata": {},
   "outputs": [
    {
     "name": "stdout",
     "output_type": "stream",
     "text": [
      "<class 'pandas.core.frame.DataFrame'>\n",
      "Index: 2148 entries, 890240255349198849 to 666020888022790149\n",
      "Data columns (total 10 columns):\n",
      " #   Column              Non-Null Count  Dtype              \n",
      "---  ------              --------------  -----              \n",
      " 0   timestamp           2148 non-null   datetime64[ns, UTC]\n",
      " 1   text                2148 non-null   object             \n",
      " 2   rating_numerator    2147 non-null   float64            \n",
      " 3   rating_denominator  2147 non-null   float64            \n",
      " 4   name                2148 non-null   object             \n",
      " 5   breed               1683 non-null   object             \n",
      " 6   confidence_level    1683 non-null   float64            \n",
      " 7   likes               2140 non-null   Int64              \n",
      " 8   retweets            2140 non-null   Int64              \n",
      " 9   dog_stage           342 non-null    object             \n",
      "dtypes: Int64(2), datetime64[ns, UTC](1), float64(3), object(4)\n",
      "memory usage: 188.8+ KB\n"
     ]
    }
   ],
   "source": [
    "tweets_master.info()"
   ]
  },
  {
   "cell_type": "markdown",
   "metadata": {},
   "source": [
    "## Analyzing and Visualizing Data\n",
    "In this section, analyze and visualize your wrangled data. You must produce at least **three (3) insights and one (1) visualization.**"
   ]
  },
  {
   "cell_type": "code",
   "execution_count": 66,
   "metadata": {},
   "outputs": [
    {
     "name": "stdout",
     "output_type": "stream",
     "text": [
      "<class 'pandas.core.frame.DataFrame'>\n",
      "Index: 2148 entries, 890240255349198849 to 666020888022790149\n",
      "Data columns (total 10 columns):\n",
      " #   Column              Non-Null Count  Dtype              \n",
      "---  ------              --------------  -----              \n",
      " 0   timestamp           2148 non-null   datetime64[ns, UTC]\n",
      " 1   text                2148 non-null   object             \n",
      " 2   rating_numerator    2147 non-null   float64            \n",
      " 3   rating_denominator  2147 non-null   float64            \n",
      " 4   name                2148 non-null   object             \n",
      " 5   breed               1683 non-null   object             \n",
      " 6   confidence_level    1683 non-null   float64            \n",
      " 7   likes               2140 non-null   Int64              \n",
      " 8   retweets            2140 non-null   Int64              \n",
      " 9   dog_stage           342 non-null    object             \n",
      "dtypes: Int64(2), datetime64[ns, UTC](1), float64(3), object(4)\n",
      "memory usage: 188.8+ KB\n"
     ]
    }
   ],
   "source": [
    "tweets_master.info()"
   ]
  },
  {
   "cell_type": "code",
   "execution_count": 67,
   "metadata": {},
   "outputs": [
    {
     "data": {
      "image/png": "[encoded data removed]",
      "text/plain": [
       "<Figure size 720x720 with 2 Axes>"
      ]
     },
     "metadata": {
      "needs_background": "light"
     },
     "output_type": "display_data"
    }
   ],
   "source": [
    "# create heatmap of correlations in the data frame\n",
    "\n",
    "import matplotlib.pyplot as plt\n",
    "%matplotlib inline\n",
    "import seaborn as sns\n",
    "def correlation_heatmap(df):\n",
    "    correlations = df.corr()\n",
    "\n",
    "    fig, ax = plt.subplots(figsize=(10,10))\n",
    "    sns.heatmap(correlations, vmax=1.0, fmt='.2f', square=True, linewidths=.3, \n",
    "                annot=True, cbar_kws={\"shrink\": .80})\n",
    "    plt.show();\n",
    "    \n",
    "correlation_heatmap(tweets_master)"
   ]
  },
  {
   "cell_type": "markdown",
   "metadata": {},
   "source": [
    "#### retweets, likes and ratings by dogs stage"
   ]
  },
  {
   "cell_type": "code",
   "execution_count": 68,
   "metadata": {},
   "outputs": [
    {
     "name": "stdout",
     "output_type": "stream",
     "text": [
      "Mean retweets amount:  2300\n",
      "Mean likes amount:  7772\n"
     ]
    }
   ],
   "source": [
    "print('Mean retweets amount: ', round(tweets_master.retweets.mean()))\n",
    "print('Mean likes amount: ', round(tweets_master.likes.mean()))"
   ]
  },
  {
   "cell_type": "code",
   "execution_count": 69,
   "metadata": {},
   "outputs": [
    {
     "data": {
      "text/plain": [
       "dog_stage\n",
       "doggo      16078.538462\n",
       "floofer         10131.4\n",
       "pupper       6358.54386\n",
       "puppo          20078.32\n",
       "Name: likes, dtype: Float64"
      ]
     },
     "execution_count": 69,
     "metadata": {},
     "output_type": "execute_result"
    }
   ],
   "source": [
    "dog_stages = tweets_master[tweets_master['dog_stage'].isnull()==False]\n",
    "dogs_likes = dog_stages.groupby('dog_stage').likes.mean()\n",
    "dogs_likes"
   ]
  },
  {
   "cell_type": "code",
   "execution_count": 70,
   "metadata": {},
   "outputs": [
    {
     "data": {
      "text/plain": [
       "dog_stage\n",
       "doggo      5405.307692\n",
       "floofer         3347.7\n",
       "pupper     2041.776316\n",
       "puppo          5755.48\n",
       "Name: retweets, dtype: Float64"
      ]
     },
     "execution_count": 70,
     "metadata": {},
     "output_type": "execute_result"
    }
   ],
   "source": [
    "dogs_retweets = dog_stages.groupby('dog_stage').retweets.mean()\n",
    "dogs_retweets"
   ]
  },
  {
   "cell_type": "code",
   "execution_count": 71,
   "metadata": {},
   "outputs": [
    {
     "data": {
      "text/plain": [
       "dog_stage\n",
       "doggo      11.822785\n",
       "floofer    11.800000\n",
       "pupper     10.764342\n",
       "puppo      12.080000\n",
       "Name: rating_numerator, dtype: float64"
      ]
     },
     "execution_count": 71,
     "metadata": {},
     "output_type": "execute_result"
    }
   ],
   "source": [
    "dogs_ratings = dog_stages.groupby('dog_stage').rating_numerator.mean()\n",
    "dogs_ratings"
   ]
  },
  {
   "cell_type": "markdown",
   "metadata": {},
   "source": [
    "#### breeds"
   ]
  },
  {
   "cell_type": "code",
   "execution_count": 72,
   "metadata": {},
   "outputs": [
    {
     "data": {
      "text/plain": [
       "breed\n",
       "bouvier_des_flandres    13.000000\n",
       "saluki                  12.500000\n",
       "tibetan_mastiff         12.250000\n",
       "border_terrier          12.142857\n",
       "silky_terrier           12.000000\n",
       "standard_schnauzer      12.000000\n",
       "irish_setter            11.750000\n",
       "gordon_setter           11.750000\n",
       "samoyed                 11.690476\n",
       "golden_retriever        11.618590\n",
       "Name: rating_numerator, dtype: float64"
      ]
     },
     "execution_count": 72,
     "metadata": {},
     "output_type": "execute_result"
    }
   ],
   "source": [
    "breeds_rating = tweets_master.groupby('breed').rating_numerator.mean().sort_values(ascending=False)\n",
    "breeds_rating[:10]"
   ]
  },
  {
   "cell_type": "code",
   "execution_count": 73,
   "metadata": {},
   "outputs": [
    {
     "data": {
      "text/plain": [
       "Index(['bedlington_terrier', 'afghan_hound', 'standard_poodle',\n",
       "       'french_bulldog', 'english_springer', 'saluki', 'whippet',\n",
       "       'cocker_spaniel', 'eskimo_dog', 'samoyed'],\n",
       "      dtype='object', name='breed')"
      ]
     },
     "execution_count": 73,
     "metadata": {},
     "output_type": "execute_result"
    }
   ],
   "source": [
    "breeds_retweets = tweets_master.groupby('breed').retweets.mean().sort_values(ascending=False)\n",
    "breeds_retweets[:10].index"
   ]
  },
  {
   "cell_type": "code",
   "execution_count": 74,
   "metadata": {},
   "outputs": [
    {
     "data": {
      "text/plain": [
       "breed\n",
       "bedlington_terrier         21965.166667\n",
       "saluki                         21189.75\n",
       "french_bulldog             17862.066667\n",
       "bouvier_des_flandres            15659.0\n",
       "afghan_hound                    14989.0\n",
       "black-and-tan_coonhound         14927.0\n",
       "flat-coated_retriever          14794.75\n",
       "irish_water_spaniel        14235.666667\n",
       "leonberg                   12890.333333\n",
       "whippet                    12824.272727\n",
       "Name: likes, dtype: Float64"
      ]
     },
     "execution_count": 74,
     "metadata": {},
     "output_type": "execute_result"
    }
   ],
   "source": [
    "breeds_likes = tweets_master.groupby('breed').likes.mean().sort_values(ascending=False)\n",
    "breeds_likes[:10]"
   ]
  },
  {
   "cell_type": "markdown",
   "metadata": {},
   "source": [
    "#### Does rating affect likes/retweets?"
   ]
  },
  {
   "cell_type": "code",
   "execution_count": 75,
   "metadata": {},
   "outputs": [
    {
     "data": {
      "image/png": "[encoded data removed]",
      "text/plain": [
       "<Figure size 432x288 with 1 Axes>"
      ]
     },
     "metadata": {
      "needs_background": "light"
     },
     "output_type": "display_data"
    }
   ],
   "source": [
    "without_outlyers_rating = tweets_master.query('rating_numerator < 20')\n",
    "without_outlyers_rating\n",
    "without_outlyers_rating.plot(x='retweets', y='rating_numerator')\n",
    "plt.xlabel('Retweets')\n",
    "plt.ylabel('Rating')\n",
    "plt.title('Retweet Counts by Ratings Scatter Plot');"
   ]
  },
  {
   "cell_type": "code",
   "execution_count": 76,
   "metadata": {},
   "outputs": [
    {
     "data": {
      "image/png": "[encoded data removed]",
      "text/plain": [
       "<Figure size 432x288 with 1 Axes>"
      ]
     },
     "metadata": {
      "needs_background": "light"
     },
     "output_type": "display_data"
    }
   ],
   "source": [
    "without_outlyers_rating = tweets_master.query('rating_numerator < 20')\n",
    "without_outlyers_rating\n",
    "without_outlyers_rating.plot(x='likes', y='rating_numerator')\n",
    "plt.xlabel('Likes')\n",
    "plt.ylabel('Rating')\n",
    "plt.title('Retweet Counts by Ratings Scatter Plot');"
   ]
  },
  {
   "cell_type": "code",
   "execution_count": 77,
   "metadata": {},
   "outputs": [
    {
     "data": {
      "text/plain": [
       "<AxesSubplot:xlabel='retweets', ylabel='likes'>"
      ]
     },
     "execution_count": 77,
     "metadata": {},
     "output_type": "execute_result"
    },
    {
     "data": {
      "image/png": "[encoded data removed]",
      "text/plain": [
       "<Figure size 432x288 with 1 Axes>"
      ]
     },
     "metadata": {
      "needs_background": "light"
     },
     "output_type": "display_data"
    }
   ],
   "source": [
    "tweets_master.plot.scatter(x='retweets', y='likes')"
   ]
  },
  {
   "cell_type": "markdown",
   "metadata": {},
   "source": [
    "### Insights:\n",
    "1. According to heatmap and scatter plots there is no correlation between rating of a dog and amount of likes and retweets it gets.\n",
    "\n",
    "2. Puppo and pupper are most favorable stages of dog, they have the highest ratings and the most of likes/retweets. \n",
    "\n",
    "3. The most popular breeds judging by rating/likes/retweets: saluki, bouvier_des_flandres, samoyed, bedlington_terrier, french_bulldog, afghan_hound,whippet"
   ]
  },
  {
   "cell_type": "markdown",
   "metadata": {
    "collapsed": true
   },
   "source": [
    "### Visualization"
   ]
  },
  {
   "cell_type": "code",
   "execution_count": 78,
   "metadata": {},
   "outputs": [
    {
     "data": {
      "image/png": "[encoded data removed]",
      "text/plain": [
       "<Figure size 432x288 with 1 Axes>"
      ]
     },
     "metadata": {
      "needs_background": "light"
     },
     "output_type": "display_data"
    }
   ],
   "source": [
    "# rating distribution\n",
    "\n",
    "rating_distribution = tweets_master.rating_numerator.value_counts().sort_index().plot.bar()\n",
    "plt.yticks([0, 50, 100, 150, 200, 250, 300, 350, 400, 450])\n",
    "plt.xlabel('Rating')\n",
    "plt.ylabel('Amount of dogs')\n",
    "plt.title('Dogs rating distribution')\n",
    "\n",
    "# mean rating over histogram\n",
    "plt.bar(tweets_master.rating_numerator.mean(), height=500, width=0.2, color='r', alpha=0.8);"
   ]
  },
  {
   "cell_type": "code",
   "execution_count": 79,
   "metadata": {},
   "outputs": [
    {
     "data": {
      "image/png": "[encoded data removed]",
      "text/plain": [
       "<Figure size 432x288 with 1 Axes>"
      ]
     },
     "metadata": {
      "needs_background": "light"
     },
     "output_type": "display_data"
    }
   ],
   "source": [
    "plt.subplots(1, sharex=True)\n",
    "tweets_master.retweets.groupby([tweets_master['timestamp'].dt.year, tweets_master['timestamp'].dt.month]).mean().plot.line(color='r')\n",
    "tweets_master.likes.groupby([tweets_master['timestamp'].dt.year, tweets_master['timestamp'].dt.month]).mean().plot.line(color='g')\n",
    "plt.title('Retweeets/likes trend over time')\n",
    "plt.ylabel('count')\n",
    "plt.xlabel('year, month')\n",
    "plt.legend(('Retweets', 'Likes'));"
   ]
  },
  {
   "cell_type": "code",
   "execution_count": null,
   "metadata": {},
   "outputs": [],
   "source": []
  }
 ],
 "metadata": {
  "extensions": {
   "jupyter_dashboards": {
    "activeView": "report_default",
    "version": 1,
    "views": {
     "grid_default": {
      "cellMargin": 10,
      "defaultCellHeight": 20,
      "maxColumns": 12,
      "name": "grid",
      "type": "grid"
     },
     "report_default": {
      "name": "report",
      "type": "report"
     }
    }
   }
  },
  "kernelspec": {
   "display_name": "Python 3",
   "language": "python",
   "name": "python3"
  },
  "language_info": {
   "codemirror_mode": {
    "name": "ipython",
    "version": 3
   },
   "file_extension": ".py",
   "mimetype": "text/x-python",
   "name": "python",
   "nbconvert_exporter": "python",
   "pygments_lexer": "ipython3",
   "version": "3.8.8"
  }
 },
 "nbformat": 4,
 "nbformat_minor": 2
}
